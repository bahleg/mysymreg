{
 "cells": [
  {
   "cell_type": "code",
   "execution_count": 1,
   "metadata": {},
   "outputs": [],
   "source": [
    "%load_ext autoreload\n",
    "%autoreload 2\n",
    "import numpy as np\n",
    "from matplotlib import pyplot as plt\n",
    "from sklearn.datasets import make_circles\n",
    "import warnings\n",
    "warnings.filterwarnings('ignore')\n",
    "\n",
    "import torch \n",
    "import random\n",
    "from torchvision import datasets, transforms\n",
    "from torch.utils.data import DataLoader, Subset \n",
    "import torch.nn.functional as F\n",
    "import torch.nn as nn\n",
    "\n",
    "from symreg import evaluate_composition, evaluate_tree, SymReg\n",
    "np.random.seed(0)"
   ]
  },
  {
   "cell_type": "code",
   "execution_count": 3,
   "metadata": {},
   "outputs": [],
   "source": [
    "def contains_pattern(sequence, pattern):\n",
    "    pattern_str = ''.join(map(str, pattern))\n",
    "    sequence_str = ''.join(map(str, sequence))\n",
    "    return pattern_str in sequence_str"
   ]
  },
  {
   "cell_type": "code",
   "execution_count": 4,
   "metadata": {},
   "outputs": [],
   "source": [
    "all_nums = []\n",
    "for i in range(16):\n",
    "    all_nums.append(list(map(int, np.binary_repr(i, 4))))\n",
    "all_nums = np.array(all_nums)\n",
    "y1 = np.array([contains_pattern(i, [1, 0, 1]) for i in all_nums])\n",
    "y2 = []\n",
    "for i in all_nums:\n",
    "    cnt = 0\n",
    "    for j in range(0, 2):\n",
    "        if contains_pattern(i[j:j+3], [1, 1, 1]):\n",
    "            cnt+=1\n",
    "    y2.append(cnt)\n",
    "y2 = np.array(y2)\n"
   ]
  },
  {
   "cell_type": "code",
   "execution_count": 5,
   "metadata": {},
   "outputs": [
    {
     "data": {
      "text/plain": [
       "(0.5, 24)"
      ]
     },
     "execution_count": 5,
     "metadata": {},
     "output_type": "execute_result"
    }
   ],
   "source": [
    "rs = np.random.RandomState(42)\n",
    "y1_new = list(range(len(all_nums)))\n",
    "while y1[y1_new].mean() != 0.5:\n",
    "    if y1[y1_new].mean()>0.5:\n",
    "        to_add = [i for i in range(len(all_nums)) if y1[i] == 0]\n",
    "    else:\n",
    "        to_add = [i for i in range(len(all_nums)) if y1[i] == 1]\n",
    "    to_add = rs.choice(to_add)\n",
    "    y1_new.append(to_add)\n",
    "y1 = y1[y1_new]\n",
    "y1.mean(), len(y1)"
   ]
  },
  {
   "cell_type": "code",
   "execution_count": 6,
   "metadata": {},
   "outputs": [],
   "source": [
    "train_dataset = all_nums[y1_new], y1\n",
    "test_dataset = train_dataset"
   ]
  },
  {
   "cell_type": "code",
   "execution_count": 7,
   "metadata": {},
   "outputs": [
    {
     "data": {
      "text/plain": [
       "(Counter({0: 13, 1: 13, 2: 13}), 39)"
      ]
     },
     "execution_count": 7,
     "metadata": {},
     "output_type": "execute_result"
    }
   ],
   "source": [
    "from collections import Counter\n",
    "rs = np.random.RandomState(42)\n",
    "y2_new = list(range(len(all_nums)))\n",
    "cnt0 = (y2[y2_new]==0).sum()\n",
    "cnt1 = (y2[y2_new]==1).sum()\n",
    "cnt2 = (y2[y2_new]==2).sum()\n",
    "\n",
    "while (cnt0 != cnt1) or (cnt1 != cnt2):\n",
    "    to_add = np.argsort([cnt0, cnt1, cnt2])[0]\n",
    "    to_add = [i for i in range(len(all_nums)) if y2[i] == to_add]\n",
    "    to_add = rs.choice(to_add)\n",
    "    y2_new.append(to_add)\n",
    "    cnt0 = (y2[y2_new]==0).sum()\n",
    "    cnt1 = (y2[y2_new]==1).sum()\n",
    "    cnt2 = (y2[y2_new]==2).sum()\n",
    "\n",
    "\n",
    "y2 = y2[y2_new]\n",
    "Counter(y2), len(y2)"
   ]
  },
  {
   "cell_type": "code",
   "execution_count": 8,
   "metadata": {},
   "outputs": [],
   "source": [
    "train_dataset2 = all_nums[y2_new], y2\n",
    "test_dataset2 = train_dataset2"
   ]
  },
  {
   "cell_type": "code",
   "execution_count": 9,
   "metadata": {},
   "outputs": [
    {
     "name": "stdout",
     "output_type": "stream",
     "text": [
      "0.7916666666666666\n"
     ]
    }
   ],
   "source": [
    "from sklearn.linear_model import LogisticRegression\n",
    "model = LogisticRegression(C=10.0)\n",
    "model.fit(train_dataset[0], train_dataset[1])\n",
    "print (np.equal(model.predict(test_dataset[0]), test_dataset[1]).mean())"
   ]
  },
  {
   "cell_type": "code",
   "execution_count": 10,
   "metadata": {},
   "outputs": [
    {
     "name": "stdout",
     "output_type": "stream",
     "text": [
      "0.1352328030798286\n"
     ]
    }
   ],
   "source": [
    "from sklearn.linear_model import LinearRegression\n",
    "model = LinearRegression()\n",
    "model.fit(train_dataset2[0], train_dataset2[1])\n",
    "print (((model.predict(test_dataset2[0]) - test_dataset2[1])**2).mean())"
   ]
  },
  {
   "cell_type": "code",
   "execution_count": null,
   "metadata": {},
   "outputs": [],
   "source": []
  },
  {
   "cell_type": "code",
   "execution_count": 11,
   "metadata": {},
   "outputs": [
    {
     "name": "stderr",
     "output_type": "stream",
     "text": [
      "1.104166130971862e-05: 100%|██████████| 1000/1000 [00:02<00:00, 388.63it/s]\n"
     ]
    }
   ],
   "source": [
    "import torch\n",
    "import torch.nn as nn\n",
    "import torch.nn.functional as F\n",
    "import tqdm\n",
    "D = 4\n",
    "\n",
    "class SimpleCNN(nn.Module):\n",
    "\n",
    "    def __init__(self):\n",
    "        super().__init__()\n",
    "        self.conv = nn.Conv1d(\n",
    "            1, 1, kernel_size=3)  # 4 фильтра, каждый ищет свой шаблон\n",
    "        self.pool = lambda x: x.max(1).values.max(1).values  #nn.AdaptiveMaxPool2d(1)  # \"обобщает\" по всему пространству\n",
    "        self.fc = nn.Linear(1, 1)  # логрегрессия по 4 признакам\n",
    "\n",
    "    def forward(self, x):\n",
    "        x = x.view(-1, 1, D).float()\n",
    "        x = self.conv(x)  # [B, 2, H-2, W-2]\n",
    "        \n",
    "        x = self.pool(x)  # [B, 2, 1, 1]\n",
    "\n",
    "        x = x.view(x.size(0), -1)  # [B, 2]\n",
    "        x = self.fc(x)  # [B, 1]\n",
    "        return x  # [B, 1]\n",
    "\n",
    "epochs = 1000\n",
    "model = SimpleCNN()\n",
    "opt = torch.optim.Adam(model.parameters(), lr=1.0)\n",
    "tq = tqdm.tqdm(range(1000))\n",
    "for e in tq:\n",
    "    opt.zero_grad()\n",
    "    out = model(torch.tensor(train_dataset[0])).view(-1)\n",
    "    \n",
    "    loss = torch.nn.BCEWithLogitsLoss()(out, torch.tensor(train_dataset[1]).float())\n",
    "    loss.backward()\n",
    "    opt.step()\n",
    "    tq.set_description(str(loss.item()))"
   ]
  },
  {
   "cell_type": "code",
   "execution_count": 12,
   "metadata": {},
   "outputs": [
    {
     "data": {
      "text/plain": [
       "tensor(1.)"
      ]
     },
     "execution_count": 12,
     "metadata": {},
     "output_type": "execute_result"
    }
   ],
   "source": [
    "out = model( torch.tensor(test_dataset[0]))>0.0\n",
    "torch.eq(out.view(-1), torch.tensor(test_dataset[1]).view(-1)).float().mean()\n"
   ]
  },
  {
   "cell_type": "code",
   "execution_count": 13,
   "metadata": {},
   "outputs": [
    {
     "name": "stderr",
     "output_type": "stream",
     "text": [
      "6.202455551829189e-05: 100%|██████████| 1000/1000 [00:02<00:00, 366.93it/s]\n"
     ]
    }
   ],
   "source": [
    "import torch\n",
    "import torch.nn as nn\n",
    "import torch.nn.functional as F\n",
    "import tqdm\n",
    "D = 4\n",
    "\n",
    "class SimpleCNN(nn.Module):\n",
    "\n",
    "    def __init__(self):\n",
    "        super().__init__()\n",
    "        self.conv = nn.Conv1d(\n",
    "            1, 1, kernel_size=3)  # 4 фильтра, каждый ищет свой шаблон\n",
    "        self.pool = lambda x: torch.nn.functional.leaky_relu(x).sum(1).sum(1)  #nn.AdaptiveMaxPool2d(1)  # \"обобщает\" по всему пространству\n",
    "        self.fc = nn.Linear(1, 1)  # логрегрессия по 4 признакам\n",
    "\n",
    "    def forward(self, x):\n",
    "        x = x.view(-1, 1, D).float()\n",
    "        x = self.conv(x)  # [B, 2, H-2, W-2]\n",
    "        \n",
    "        x = self.pool(x)  # [B, 2, 1, 1]\n",
    "\n",
    "        x = x.view(x.size(0), -1)  # [B, 2]\n",
    "        x = self.fc(x)  # [B, 1]\n",
    "        return x  # [B, 1]\n",
    "\n",
    "epochs = 1000\n",
    "model = SimpleCNN()\n",
    "opt = torch.optim.Adam(model.parameters(), lr=1e-2)\n",
    "tq = tqdm.tqdm(range(1000))\n",
    "for e in tq:\n",
    "    opt.zero_grad()\n",
    "    out = model(torch.tensor(train_dataset2[0])).view(-1)\n",
    "    \n",
    "    loss = ((out - torch.tensor(train_dataset2[1]))**2).mean()\n",
    "    loss.backward()\n",
    "    opt.step()\n",
    "    tq.set_description(str(loss.item()))"
   ]
  },
  {
   "cell_type": "code",
   "execution_count": 14,
   "metadata": {},
   "outputs": [
    {
     "data": {
      "text/plain": [
       "tensor(6.1714e-05, grad_fn=<MeanBackward0>)"
      ]
     },
     "execution_count": 14,
     "metadata": {},
     "output_type": "execute_result"
    }
   ],
   "source": [
    "out = model(torch.tensor(train_dataset2[0])).view(-1)\n",
    "((out - torch.tensor(train_dataset2[1]))**2).mean()\n"
   ]
  },
  {
   "cell_type": "code",
   "execution_count": 15,
   "metadata": {},
   "outputs": [
    {
     "data": {
      "text/plain": [
       "((63, 4), (63,))"
      ]
     },
     "execution_count": 15,
     "metadata": {},
     "output_type": "execute_result"
    }
   ],
   "source": [
    "X_all = np.vstack([train_dataset[0], train_dataset2[0]])\n",
    "y_all = np.hstack([train_dataset[1], train_dataset2[1]])\n",
    "X_all.shape, y_all.shape"
   ]
  },
  {
   "cell_type": "code",
   "execution_count": 16,
   "metadata": {},
   "outputs": [
    {
     "data": {
      "text/plain": [
       "(24, 4)"
      ]
     },
     "execution_count": 16,
     "metadata": {},
     "output_type": "execute_result"
    }
   ],
   "source": [
    "train_dataset[0].shape"
   ]
  },
  {
   "cell_type": "code",
   "execution_count": 18,
   "metadata": {},
   "outputs": [],
   "source": [
    "from mi import micd\n",
    "from scipy.optimize import minimize\n",
    "from symreg import evaluate_composition\n",
    "\n",
    "import zlib\n",
    "\n",
    "\n",
    "def compress_score(expression_str: str):\n",
    "    compressed = zlib.compress(expression_str.encode('utf-8'))\n",
    "    return len(compressed)\n",
    "\n",
    "def acc_loss_fn_min(x, y, ind, variables, pool, OPERATIONS):\n",
    "    COMP_SCORE = 1e-4\n",
    "    if COMP_SCORE:        \n",
    "        compl = compress_score(';'.join([str(h) for h in ind.children_h\n",
    "                                     ]))  \n",
    "        \n",
    "    else:\n",
    "        compl = 0.0\n",
    "    \n",
    "    \n",
    "    x_train1 = {f'x{i}':x[:24, i] for i in range(4)}\n",
    "    y_train1 = y[:24]\n",
    "    \n",
    "    x_train2 = {f'x{i}':x[24:, i] for i in range(4)}\n",
    "    y_train2 = y[24:]\n",
    "    \n",
    "    def min_func(x0, var_y):\n",
    "        var_, y_ = var_y\n",
    "        pool_ = {f'p{i}': x0[i] for i in range(len(x0))}\n",
    "    \n",
    "        y_pred = evaluate_composition(ind, var_, pool_, OPERATIONS) > 0\n",
    "        errs = -np.equal(y_, y_pred).mean()\n",
    "        return errs\n",
    "    \n",
    "    x_opt = minimize(min_func, list(pool.values()),[x_train1, y_train1])\n",
    "    loss1 = min_func(x_opt.x, [x_train1, y_train1])\n",
    "    \"\"\"\n",
    "    hidden1, out1 = evaluate_composition(ind, x_train1, {f'p{i}': x_opt.x[i] for i in range(len(x_opt.x))}, \n",
    "                                             OPERATIONS, 0, True)\n",
    "    hidden1_array = []\n",
    "    for h in hidden1.values():\n",
    "        h = np.array(h)\n",
    "        if len(h.shape) == 0:\n",
    "            h = np.ones(24) * h\n",
    "        hidden1_array.append(h)\n",
    "    hidden1_array = np.array(hidden1_array).T\n",
    "    mi = micd(hidden1_array, y_train1)\n",
    "    \"\"\"\n",
    "        \n",
    "    \n",
    "    def min_func2(x0, var_y):\n",
    "        var_, y_ = var_y\n",
    "        pool_ = {f'p{i}': x0[i] for i in range(len(x0))}\n",
    "        y_pred = evaluate_composition(ind, var_, pool_, OPERATIONS, g_id=1) \n",
    "        y_pred = np.clip(y_pred, 0, 2)\n",
    "        errs = ((y_ - y_pred)**2).mean()/2\n",
    "        return errs\n",
    "    \n",
    "    x_opt = minimize(min_func2, list(pool.values()),[x_train2, y_train2])\n",
    "    \n",
    "    loss2 = 0.0\n",
    "    loss2 = min_func2(x_opt.x, [x_train2, y_train2])\n",
    "    loss = (loss1 + loss2)/2 + compl * COMP_SCORE\n",
    "   \n",
    "    return loss, loss1, loss2, compl #, mi"
   ]
  },
  {
   "cell_type": "code",
   "execution_count": null,
   "metadata": {},
   "outputs": [],
   "source": []
  },
  {
   "cell_type": "code",
   "execution_count": null,
   "metadata": {},
   "outputs": [],
   "source": []
  },
  {
   "cell_type": "code",
   "execution_count": 24,
   "metadata": {
    "scrolled": false
   },
   "outputs": [
    {
     "name": "stdout",
     "output_type": "stream",
     "text": [
      "[Gen 0] Expr: \n",
      "h_0 = mult(max(add(x0, p1), mult(x3, x3)), sub(mult(p0, p0), max(x2, x2)))\n",
      "h_1 = x3\n",
      "g_0 = h1\n",
      "g_1 = h1\n",
      "[Gen 0] Best errors: (-0.22096410256410257, -0.75, 0.2948717948717948, 66.0)\n",
      "[Gen 1] Expr: \n",
      "h_0 = x1\n",
      "h_1 = max(add(mult(p0, x3), add(p0, x3)), x3)\n",
      "g_0 = h1\n",
      "g_1 = h1\n",
      "[Gen 1] Best errors: (-0.22366410256410257, -0.75, 0.2948717948717948, 39.0)\n",
      "[Gen 2] Expr: \n",
      "h_0 = x1\n",
      "h_1 = max(add(mult(p0, x3), add(p0, x3)), x3)\n",
      "g_0 = h1\n",
      "g_1 = h1\n",
      "[Gen 2] Best errors: (-0.22366410256410257, -0.75, 0.2948717948717948, 39.0)\n",
      "[Gen 3] Expr: \n",
      "h_0 = max(p0, sub(mult(mult(x2, x3), max(x3, x3)), p1))\n",
      "h_1 = mult(max(sub(mult(x3, x0), max(x1, x2)), mult(add(x0, x1), add(x3, x2))), x2)\n",
      "g_0 = sub(p0, add(max(p0, p1), sub(h0, p0)))\n",
      "g_1 = add(max(mult(p1, h0), add(h1, h1)), p0)\n",
      "[Gen 3] Best errors: (-0.23564761904761905, -0.5, 0.011904761904761908, 84.0)\n",
      "[Gen 4] Expr: \n",
      "h_0 = add(max(add(p0, x2), max(x2, x1)), p1)\n",
      "h_1 = mult(sub(add(add(x1, x2), sub(p0, p0)), sub(max(x3, x1), max(x3, p0))), max(mult(x2, p0), sub(x1, p0)))\n",
      "g_0 = max(sub(max(p1, p1), sub(p1, h1)), h1)\n",
      "g_1 = sub(h1, p1)\n",
      "[Gen 4] Best errors: (-0.2974186813186813, -0.75, 0.13736263736263735, 89.0)\n",
      "[Gen 5] Expr: \n",
      "h_0 = add(max(add(x1, x2), max(x2, x1)), p1)\n",
      "h_1 = mult(sub(add(add(x1, x2), sub(p0, p0)), sub(max(x3, x1), max(x3, p0))), max(mult(x2, p0), sub(x1, p0)))\n",
      "g_0 = max(sub(max(p1, p1), sub(p1, h1)), h1)\n",
      "g_1 = sub(h1, p1)\n",
      "[Gen 5] Best errors: (-0.29771868131868134, -0.75, 0.13736263736263735, 86.0)\n",
      "[Gen 6] Expr: \n",
      "h_0 = add(max(add(x1, x2), max(x2, x1)), p1)\n",
      "h_1 = mult(sub(add(add(x1, x2), sub(p0, p0)), sub(max(x3, x1), max(x3, p0))), max(mult(x2, p0), sub(x1, p0)))\n",
      "g_0 = max(sub(max(p1, p1), sub(p1, h1)), h1)\n",
      "g_1 = sub(h1, p1)\n",
      "[Gen 6] Best errors: (-0.29771868131868134, -0.75, 0.13736263736263735, 86.0)\n",
      "[Gen 7] Expr: \n",
      "h_0 = mult(x3, sub(x1, sub(add(x2, x0), mult(x0, p1))))\n",
      "h_1 = x3\n",
      "g_0 = h0\n",
      "g_1 = sub(add(max(h1, h0), add(h0, p0)), sub(max(h0, p0), max(p1, h0)))\n",
      "[Gen 7] Best errors: (-0.33848974358974354, -0.875, 0.18782051282051293, 51.0)\n",
      "[Gen 8] Expr: \n",
      "h_0 = mult(mult(max(x1, p0), mult(p1, p0)), x3)\n",
      "h_1 = mult(max(sub(mult(x3, x0), max(x1, x2)), mult(add(x0, x1), add(x3, x2))), x2)\n",
      "g_0 = sub(p0, add(max(p0, p1), sub(h0, p0)))\n",
      "g_1 = add(max(mult(p1, h0), add(h1, h1)), p0)\n",
      "[Gen 8] Best errors: (-0.34061428571428576, -0.7083333333333334, 0.011904761904761908, 76.0)\n",
      "[Gen 9] Expr: \n",
      "h_0 = mult(mult(max(x1, p0), mult(p1, p0)), x3)\n",
      "h_1 = mult(max(sub(mult(x3, x0), max(x1, x2)), mult(add(x0, x1), add(x3, x2))), x2)\n",
      "g_0 = sub(p0, add(max(p0, p1), sub(h0, p0)))\n",
      "g_1 = add(max(mult(p1, h0), add(h1, h1)), p0)\n",
      "[Gen 9] Best errors: (-0.34061428571428576, -0.7083333333333334, 0.011904761904761908, 76.0)\n",
      "[Gen 10] Expr: \n",
      "h_0 = mult(mult(max(x1, p0), mult(p1, p0)), x3)\n",
      "h_1 = mult(max(sub(mult(x3, x0), max(x1, x2)), mult(add(x0, x1), add(x3, x2))), x2)\n",
      "g_0 = sub(p0, add(max(p0, p1), sub(h0, p0)))\n",
      "g_1 = add(max(mult(p1, h0), add(h1, h1)), p0)\n",
      "[Gen 10] Best errors: (-0.34061428571428576, -0.7083333333333334, 0.011904761904761908, 76.0)\n",
      "[Gen 11] Expr: \n",
      "h_0 = mult(mult(max(x1, p0), mult(p1, p0)), x3)\n",
      "h_1 = mult(max(sub(mult(x3, x0), max(x1, x2)), mult(add(x0, x1), add(x3, x2))), x2)\n",
      "g_0 = sub(p0, add(max(p0, p1), sub(h0, p0)))\n",
      "g_1 = add(max(mult(p1, h0), add(h1, h1)), p0)\n",
      "[Gen 11] Best errors: (-0.34061428571428576, -0.7083333333333334, 0.011904761904761908, 76.0)\n",
      "[Gen 12] Expr: \n",
      "h_0 = mult(mult(max(x1, p0), mult(p1, p0)), x3)\n",
      "h_1 = mult(max(sub(mult(x3, x0), max(x1, x2)), mult(add(x0, x1), add(x3, x2))), x2)\n",
      "g_0 = sub(p0, add(max(p0, p1), sub(h0, p0)))\n",
      "g_1 = add(max(mult(p1, h0), add(h1, h1)), p0)\n",
      "[Gen 12] Best errors: (-0.34061428571428576, -0.7083333333333334, 0.011904761904761908, 76.0)\n",
      "[Gen 13] Expr: \n",
      "h_0 = mult(mult(max(x1, x0), mult(p1, p0)), x3)\n",
      "h_1 = mult(max(sub(mult(x3, x0), max(x1, x2)), mult(add(x0, x1), add(x3, x2))), x2)\n",
      "g_0 = sub(p0, add(max(max(mult(mult(h0, p1), max(p1, p1)), add(max(h1, h0), max(p0, p0))), p1), sub(h0, p0)))\n",
      "g_1 = add(max(mult(p1, h0), add(h1, h1)), p0)\n",
      "[Gen 13] Best errors: (-0.40311428571428576, -0.8333333333333334, 0.011904761904761908, 76.0)\n",
      "[Gen 14] Expr: \n",
      "h_0 = mult(mult(max(x1, x0), mult(p1, p0)), x3)\n",
      "h_1 = mult(max(sub(mult(x3, x0), max(x1, x2)), mult(add(x0, x1), add(x3, x2))), x2)\n",
      "g_0 = sub(p0, add(max(max(mult(mult(h0, p1), max(p1, p1)), add(max(h1, h0), max(p0, p0))), p1), sub(h0, p0)))\n",
      "g_1 = add(max(mult(p1, h0), add(h1, h1)), p0)\n",
      "[Gen 14] Best errors: (-0.40311428571428576, -0.8333333333333334, 0.011904761904761908, 76.0)\n",
      "[Gen 15] Expr: \n",
      "h_0 = mult(mult(max(x1, p0), mult(p1, p0)), x3)\n",
      "h_1 = mult(max(sub(mult(x3, x0), max(x1, x2)), mult(add(x0, x1), add(x3, x2))), x2)\n",
      "g_0 = sub(p0, add(max(p0, p1), sub(h0, mult(add(h1, h1), sub(h0, p0)))))\n",
      "g_1 = add(max(mult(p1, h0), add(h1, h1)), p0)\n",
      "[Gen 15] Best errors: (-0.4447809523809524, -0.9166666666666665, 0.011904761904761908, 76.0)\n",
      "[Gen 16] Expr: \n",
      "h_0 = mult(mult(max(x1, p0), mult(p1, p0)), x3)\n",
      "h_1 = mult(max(sub(mult(x3, x0), max(x1, x2)), mult(add(x0, x1), add(x3, x2))), x2)\n",
      "g_0 = sub(p0, add(max(p0, p1), sub(h0, mult(add(h1, h1), sub(h0, p0)))))\n",
      "g_1 = add(max(mult(p1, h0), add(h1, h1)), p0)\n",
      "[Gen 16] Best errors: (-0.4447809523809524, -0.9166666666666665, 0.011904761904761908, 76.0)\n",
      "[Gen 17] Expr: \n",
      "h_0 = mult(mult(max(x1, p0), mult(p1, p0)), x3)\n",
      "h_1 = mult(max(sub(mult(x3, x0), max(x1, x2)), mult(add(x0, x1), add(x3, x2))), x2)\n",
      "g_0 = sub(p0, add(max(p0, p1), sub(h0, mult(add(h1, h1), sub(h0, p0)))))\n",
      "g_1 = add(max(mult(p1, h0), add(h1, h1)), p0)\n",
      "[Gen 17] Best errors: (-0.4447809523809524, -0.9166666666666665, 0.011904761904761908, 76.0)\n",
      "[Gen 18] Expr: \n",
      "h_0 = mult(mult(max(x1, p0), mult(p1, p0)), x3)\n",
      "h_1 = mult(max(sub(mult(x3, x0), max(x1, x2)), mult(add(x0, x1), add(x3, x2))), x2)\n",
      "g_0 = sub(p0, add(max(p0, p1), sub(h0, mult(add(h1, h1), sub(h0, p0)))))\n",
      "g_1 = add(max(mult(p1, h0), add(h1, h1)), p0)\n",
      "[Gen 18] Best errors: (-0.4447809523809524, -0.9166666666666665, 0.011904761904761908, 76.0)\n",
      "[Gen 19] Expr: \n",
      "h_0 = mult(mult(max(x1, p0), mult(p1, p0)), x3)\n",
      "h_1 = mult(max(sub(mult(x3, x0), max(x1, x2)), mult(add(x0, x1), add(x3, x2))), x2)\n",
      "g_0 = sub(p0, add(max(p0, p1), sub(h0, mult(add(h1, h1), sub(h0, p0)))))\n",
      "g_1 = add(max(mult(p1, h0), add(h1, h1)), p0)\n",
      "[Gen 19] Best errors: (-0.4447809523809524, -0.9166666666666665, 0.011904761904761908, 76.0)\n",
      "[Gen 20] Expr: \n",
      "h_0 = mult(mult(max(x1, p0), mult(p1, p0)), x3)\n",
      "h_1 = mult(max(add(x0, x0), mult(add(x0, x1), add(x3, x2))), x2)\n",
      "g_0 = sub(p0, add(max(p0, p1), sub(h0, mult(h1, sub(h0, p0)))))\n",
      "g_1 = add(max(mult(p1, h0), add(h1, h1)), p0)\n",
      "[Gen 20] Best errors: (-0.46155555555555555, -0.9583333333333334, 0.022222222222222227, 65.0)\n",
      "[Gen 21] Expr: \n",
      "h_0 = mult(mult(max(x1, p0), mult(p1, p0)), x3)\n",
      "h_1 = mult(max(add(x0, x0), mult(add(x0, x1), add(x3, x2))), x2)\n",
      "g_0 = sub(p0, add(max(p0, p1), sub(h0, mult(h1, sub(h0, p0)))))\n",
      "g_1 = add(max(mult(p1, h0), add(h1, h1)), p0)\n",
      "[Gen 21] Best errors: (-0.46155555555555555, -0.9583333333333334, 0.022222222222222227, 65.0)\n",
      "[Gen 22] Expr: \n",
      "h_0 = mult(mult(max(x1, p0), mult(p1, p0)), x3)\n",
      "h_1 = mult(max(add(x0, x0), mult(add(x0, x1), add(x3, x2))), x2)\n",
      "g_0 = sub(p0, add(max(p0, p1), sub(h0, mult(h1, sub(h0, p0)))))\n",
      "g_1 = add(max(mult(p1, h0), add(h1, h1)), p0)\n",
      "[Gen 22] Best errors: (-0.46155555555555555, -0.9583333333333334, 0.022222222222222227, 65.0)\n",
      "[Gen 23] Expr: \n",
      "h_0 = mult(mult(max(x1, p0), mult(p1, p0)), x3)\n",
      "h_1 = mult(max(add(x0, x0), mult(add(x0, x1), add(x3, x2))), x2)\n",
      "g_0 = sub(p0, add(max(p0, p1), sub(h0, mult(h1, sub(h0, p0)))))\n",
      "g_1 = add(max(mult(p1, h0), add(h1, h1)), p0)\n",
      "[Gen 23] Best errors: (-0.46155555555555555, -0.9583333333333334, 0.022222222222222227, 65.0)\n",
      "[Gen 24] Expr: \n",
      "h_0 = mult(mult(max(x1, p0), mult(p1, p0)), x3)\n",
      "h_1 = mult(max(add(x0, x0), mult(add(x0, x1), add(x3, x2))), x2)\n",
      "g_0 = sub(p0, add(max(p0, p1), sub(h0, mult(h1, sub(h0, p0)))))\n",
      "g_1 = add(max(mult(p1, h0), add(h1, h1)), p0)\n",
      "[Gen 24] Best errors: (-0.46155555555555555, -0.9583333333333334, 0.022222222222222227, 65.0)\n",
      "[Gen 25] Expr: \n",
      "h_0 = mult(mult(max(x1, p0), mult(p1, p0)), x3)\n",
      "h_1 = mult(max(add(x0, x0), mult(add(x0, x1), add(x3, x2))), x2)\n",
      "g_0 = sub(p0, add(max(p0, p1), sub(h0, mult(h1, sub(h0, p0)))))\n",
      "g_1 = add(max(mult(p1, h0), add(h1, h1)), sub(h1, max(add(h1, p1), add(p1, p0))))\n",
      "[Gen 25] Best errors: (-0.46155555555555555, -0.9583333333333334, 0.02222222222222223, 65.0)\n",
      "[Gen 26] Expr: \n",
      "h_0 = mult(mult(max(x1, p0), mult(p1, p0)), x3)\n",
      "h_1 = mult(max(add(x0, x0), mult(add(x0, x1), add(x3, x2))), x2)\n",
      "g_0 = sub(p0, add(max(p0, p1), sub(h0, mult(h1, sub(h0, p0)))))\n",
      "g_1 = add(max(mult(p1, h0), add(h1, p1)), p0)\n",
      "[Gen 26] Best errors: (-0.46155555555555555, -0.9583333333333334, 0.02222222222222223, 65.0)\n",
      "[Gen 27] Expr: \n",
      "h_0 = mult(mult(max(x1, p0), mult(p1, p0)), x3)\n",
      "h_1 = mult(max(sub(mult(max(max(max(x0, x1), max(x0, p1)), max(mult(p0, x2), sub(x1, x0))), x0), max(x0, x2)), mult(add(x0, x1), add(x3, x2))), x2)\n",
      "g_0 = sub(p0, add(max(add(p0, max(add(h1, p1), add(p1, p0))), p1), sub(h0, mult(add(h1, max(mult(mult(p0, p1), max(p0, p1)), mult(mult(p1, h0), mult(h1, h0)))), sub(h0, p0)))))\n",
      "g_1 = add(max(mult(p1, h0), add(h1, h1)), p0)\n",
      "[Gen 27] Best errors: (-0.46371428571428575, -0.9583333333333334, 0.011904761904761915, 95.0)\n",
      "[Gen 28] Expr: \n",
      "h_0 = mult(mult(max(x1, p0), mult(p1, p0)), max(x3, max(mult(x2, x0), mult(p1, p0))))\n",
      "h_1 = mult(max(add(x0, x0), mult(add(x0, x1), add(x3, x2))), x2)\n",
      "g_0 = sub(p0, add(max(p0, p1), sub(h0, mult(h1, sub(h0, p0)))))\n",
      "g_1 = add(max(mult(p1, h0), add(h1, h1)), p0)\n",
      "[Gen 28] Best errors: (-0.4812888888888889, -1.0, 0.022222222222222227, 76.0)\n",
      "[Gen 29] Expr: \n",
      "h_0 = mult(mult(max(x1, p0), mult(p1, p0)), max(x3, max(mult(x2, x0), mult(p1, p0))))\n",
      "h_1 = mult(max(add(x0, x0), mult(add(x0, x1), add(x3, x2))), x2)\n",
      "g_0 = sub(p0, add(max(p0, p1), sub(h0, mult(h1, sub(h0, p0)))))\n",
      "g_1 = add(max(mult(p1, h0), add(h1, h1)), p0)\n",
      "[Gen 29] Best errors: (-0.4812888888888889, -1.0, 0.022222222222222227, 76.0)\n",
      "[Gen 30] Expr: \n",
      "h_0 = mult(mult(max(x1, p0), mult(p1, p0)), max(x3, max(mult(x2, x0), mult(p1, p0))))\n",
      "h_1 = mult(max(add(x0, x0), mult(add(x0, x1), add(x3, x2))), x2)\n",
      "g_0 = sub(p0, add(max(p0, p1), sub(h0, mult(h1, sub(h0, p0)))))\n",
      "g_1 = add(max(mult(p1, h0), add(h1, h1)), p0)\n",
      "[Gen 30] Best errors: (-0.4812888888888889, -1.0, 0.022222222222222227, 76.0)\n",
      "[Gen 31] Expr: \n",
      "h_0 = mult(mult(max(x1, p0), mult(p1, p0)), max(x3, max(mult(x2, x0), mult(p1, p0))))\n",
      "h_1 = mult(max(add(x0, x0), mult(add(x0, x1), add(x3, x2))), x2)\n",
      "g_0 = sub(p0, add(max(p0, p1), sub(h0, mult(h1, sub(h0, p0)))))\n",
      "g_1 = add(max(mult(p1, h0), add(h1, p1)), p0)\n",
      "[Gen 31] Best errors: (-0.4812888888888889, -1.0, 0.02222222222222223, 76.0)\n",
      "[Gen 32] Expr: \n",
      "h_0 = mult(mult(max(x1, p0), mult(p1, p0)), max(x3, max(mult(x2, x0), mult(p1, p0))))\n",
      "h_1 = mult(max(add(x0, x0), mult(add(x0, x1), add(x3, x2))), x2)\n",
      "g_0 = sub(p0, add(max(p0, p1), sub(h0, mult(h1, sub(h0, p0)))))\n",
      "g_1 = add(max(mult(p1, h0), add(h1, p1)), p0)\n",
      "[Gen 32] Best errors: (-0.4812888888888889, -1.0, 0.02222222222222223, 76.0)\n",
      "[Gen 33] Expr: \n",
      "h_0 = mult(mult(max(x1, p0), mult(p1, p0)), max(x3, max(mult(x2, x0), mult(p1, p0))))\n",
      "h_1 = mult(max(add(x0, x0), mult(add(x0, x1), add(x3, x2))), x2)\n",
      "g_0 = sub(p0, add(max(p0, p1), sub(h0, mult(h1, sub(h0, p0)))))\n",
      "g_1 = add(max(mult(p1, h0), add(h1, p1)), p0)\n",
      "[Gen 33] Best errors: (-0.4812888888888889, -1.0, 0.02222222222222223, 76.0)\n",
      "[Gen 34] Expr: \n",
      "h_0 = mult(mult(max(x1, p0), mult(p1, p0)), max(x3, max(mult(x2, x0), mult(p1, p0))))\n",
      "h_1 = mult(max(add(x0, x0), mult(add(x0, x1), add(x3, x2))), x2)\n",
      "g_0 = sub(p0, add(max(p0, p1), sub(h0, mult(h1, sub(h0, p0)))))\n",
      "g_1 = add(max(mult(p1, h0), add(h1, p1)), p0)\n",
      "[Gen 34] Best errors: (-0.4812888888888889, -1.0, 0.02222222222222223, 76.0)\n",
      "[Gen 35] Expr: \n",
      "h_0 = mult(mult(max(x1, p0), mult(p1, p0)), max(x3, max(mult(x2, x0), mult(p1, p0))))\n",
      "h_1 = mult(max(add(x0, x0), mult(add(x0, x1), add(x3, x2))), x2)\n",
      "g_0 = sub(p0, add(max(p0, p1), sub(h0, mult(h1, sub(h0, p0)))))\n",
      "g_1 = add(max(mult(p1, h0), add(h1, p1)), p0)\n",
      "[Gen 35] Best errors: (-0.4812888888888889, -1.0, 0.02222222222222223, 76.0)\n",
      "[Gen 36] Expr: \n",
      "h_0 = mult(mult(max(x1, p0), mult(p1, p0)), max(x3, max(mult(x2, x0), mult(p1, p0))))\n",
      "h_1 = mult(max(add(x0, x0), mult(add(x0, x1), add(x3, x2))), x2)\n",
      "g_0 = sub(p0, add(max(p0, p1), sub(h0, mult(h1, sub(h0, p0)))))\n",
      "g_1 = add(max(mult(p1, h0), add(max(mult(add(p1, p0), max(p1, p1)), p1), h1)), p0)\n",
      "[Gen 36] Best errors: (-0.4812888888888889, -1.0, 0.02222222222222223, 76.0)\n",
      "[Gen 37] Expr: \n",
      "h_0 = mult(mult(max(x1, p0), mult(p1, p0)), max(x3, max(mult(x2, x0), mult(p1, p0))))\n",
      "h_1 = mult(max(add(x0, x0), mult(add(x0, x1), add(x3, x2))), x2)\n",
      "g_0 = sub(p0, add(max(p0, p1), sub(h0, mult(h1, sub(h0, p0)))))\n",
      "g_1 = add(max(mult(p1, h0), add(mult(mult(add(p1, p0), max(h0, p0)), h1), h1)), p0)\n",
      "[Gen 37] Best errors: (-0.4923999999999993, -1.0, 1.4479533751235752e-15, 76.0)\n",
      "[Gen 38] Expr: \n",
      "h_0 = mult(mult(max(x1, p0), mult(p1, p0)), max(x3, max(mult(x2, x0), mult(p1, p0))))\n",
      "h_1 = mult(max(add(x0, x0), mult(add(x0, x1), add(x3, x2))), x2)\n",
      "g_0 = sub(p0, add(max(p0, p1), sub(h0, mult(h1, sub(h0, p0)))))\n",
      "g_1 = add(max(mult(p1, h0), add(mult(mult(add(p1, p0), max(h0, p0)), h1), h1)), p0)\n",
      "[Gen 38] Best errors: (-0.4923999999999993, -1.0, 1.4479533751235752e-15, 76.0)\n",
      "[Gen 39] Expr: \n",
      "h_0 = mult(mult(max(x1, p0), mult(p1, p0)), max(x3, max(mult(x2, x0), mult(p1, p0))))\n",
      "h_1 = mult(max(add(x0, x0), mult(add(x0, x1), add(x3, x2))), x2)\n",
      "g_0 = sub(p0, add(max(p0, p1), sub(h0, mult(h1, sub(h0, p0)))))\n",
      "g_1 = add(max(mult(p1, h0), add(mult(mult(add(p1, p0), max(h0, p0)), h1), h1)), p0)\n",
      "[Gen 39] Best errors: (-0.4923999999999993, -1.0, 1.4479533751235752e-15, 76.0)\n",
      "[Gen 40] Expr: \n",
      "h_0 = mult(mult(max(x1, p0), mult(p1, p0)), max(x3, max(mult(x2, x0), mult(p1, p0))))\n",
      "h_1 = mult(max(add(x0, x0), mult(add(x0, x1), add(x3, x2))), x2)\n",
      "g_0 = sub(p0, add(max(p0, p1), sub(h0, mult(h1, sub(h0, p0)))))\n",
      "g_1 = add(max(mult(p1, h0), add(mult(mult(add(p1, p0), max(h0, p0)), h1), h1)), p0)\n",
      "[Gen 40] Best errors: (-0.4923999999999993, -1.0, 1.4479533751235752e-15, 76.0)\n",
      "[Gen 41] Expr: \n",
      "h_0 = mult(mult(max(x1, p0), mult(p1, p0)), max(x3, max(mult(x2, x0), mult(p1, p0))))\n",
      "h_1 = mult(max(add(x0, x0), mult(add(x0, x1), add(x3, x2))), x2)\n",
      "g_0 = sub(p0, add(max(p0, p1), sub(h0, mult(h1, sub(h0, p0)))))\n",
      "g_1 = add(max(mult(p1, h0), add(mult(mult(add(p1, p0), max(h0, p0)), h1), h1)), p0)\n",
      "[Gen 41] Best errors: (-0.4923999999999993, -1.0, 1.4479533751235752e-15, 76.0)\n",
      "[Gen 42] Expr: \n",
      "h_0 = mult(mult(max(x1, p0), mult(p1, p0)), max(x3, max(mult(x2, x0), mult(p1, p0))))\n",
      "h_1 = mult(max(add(x0, x0), mult(add(x0, x1), add(x3, x2))), x2)\n",
      "g_0 = sub(p0, add(max(p0, p1), sub(h0, mult(h1, sub(h0, p0)))))\n",
      "g_1 = add(max(mult(p1, h0), add(mult(mult(add(p1, p0), max(h0, p0)), h1), h1)), p0)\n",
      "[Gen 42] Best errors: (-0.4923999999999993, -1.0, 1.4479533751235752e-15, 76.0)\n",
      "[Gen 43] Expr: \n",
      "h_0 = mult(mult(max(x1, p0), mult(p1, p0)), max(x3, max(mult(x2, x0), mult(p1, p0))))\n",
      "h_1 = mult(max(add(x0, x0), mult(add(x0, x1), add(x3, x2))), x2)\n",
      "g_0 = sub(p0, add(max(p0, p1), sub(h0, mult(h1, sub(h0, p0)))))\n",
      "g_1 = add(max(mult(p1, h0), add(mult(mult(add(p1, p0), max(h0, p0)), h1), h1)), p0)\n",
      "[Gen 43] Best errors: (-0.4923999999999993, -1.0, 1.4479533751235752e-15, 76.0)\n",
      "[Gen 44] Expr: \n",
      "h_0 = mult(mult(max(x1, p0), mult(p1, p0)), max(x3, max(mult(max(x2, p0), x0), mult(p1, p0))))\n",
      "h_1 = mult(max(add(x0, x0), mult(add(x0, x1), add(x3, x2))), x2)\n",
      "g_0 = sub(p0, add(max(p0, p1), sub(h0, mult(h1, sub(h0, p0)))))\n",
      "g_1 = add(max(mult(p1, h0), add(max(sub(h0, h1), sub(p0, p1)), sub(add(p0, h1), max(h0, h0)))), p0)\n",
      "[Gen 44] Best errors: (-0.49249999999978417, -1.0, 4.316841098120043e-13, 75.00000000000001)\n",
      "[Gen 45] Expr: \n",
      "h_0 = mult(mult(max(x1, p0), mult(p1, p0)), max(x3, max(mult(max(x2, p0), x0), mult(p1, p0))))\n",
      "h_1 = mult(max(add(x0, x0), mult(add(x0, x1), add(x3, x2))), x2)\n",
      "g_0 = sub(p0, add(max(p0, p1), sub(h0, mult(h1, sub(h0, p0)))))\n",
      "g_1 = add(max(mult(p1, h0), add(max(sub(h0, h1), sub(p0, p1)), sub(add(p0, h1), max(h0, h0)))), p0)\n",
      "[Gen 45] Best errors: (-0.49249999999978417, -1.0, 4.316841098120043e-13, 75.00000000000001)\n",
      "[Gen 46] Expr: \n",
      "h_0 = mult(mult(max(x1, p0), mult(p1, p0)), max(x3, max(mult(max(x2, p0), x0), mult(p1, p0))))\n",
      "h_1 = mult(max(add(x0, x0), mult(add(x0, x1), add(x3, x2))), x2)\n",
      "g_0 = sub(p0, add(max(p0, p1), sub(h0, mult(h1, sub(h0, p0)))))\n",
      "g_1 = add(max(mult(p1, h0), add(max(sub(h0, h1), sub(p0, p1)), sub(add(p0, h1), max(h0, h0)))), p0)\n",
      "[Gen 46] Best errors: (-0.49249999999978417, -1.0, 4.316841098120043e-13, 75.00000000000001)\n",
      "[Gen 47] Expr: \n",
      "h_0 = mult(mult(max(x1, p0), mult(p1, p0)), max(x3, max(mult(max(x2, p0), x0), mult(p1, p0))))\n",
      "h_1 = mult(max(add(x0, x0), mult(add(x0, x1), add(x3, x2))), x2)\n",
      "g_0 = sub(p0, add(max(p0, p1), sub(h0, mult(h1, sub(h0, p0)))))\n",
      "g_1 = add(max(mult(p1, h0), add(max(sub(h0, h1), sub(p0, p1)), sub(add(p0, h1), max(h0, h0)))), p0)\n",
      "[Gen 47] Best errors: (-0.49249999999978417, -1.0, 4.316841098120043e-13, 75.00000000000001)\n",
      "[Gen 48] Expr: \n",
      "h_0 = mult(mult(max(x1, p0), mult(p1, p0)), max(x3, max(mult(x2, x0), mult(p1, p0))))\n",
      "h_1 = mult(max(add(x0, x0), mult(add(x0, x1), add(x3, x1))), x2)\n",
      "g_0 = sub(p0, add(max(p0, p1), sub(h0, mult(h1, sub(h0, p0)))))\n",
      "g_1 = add(max(mult(p1, h0), add(mult(mult(add(p1, p0), max(h0, p0)), h1), h1)), p0)\n",
      "[Gen 48] Best errors: (-0.49249999999999927, -1.0, 1.4479533751235752e-15, 75.00000000000001)\n",
      "[Gen 49] Expr: \n",
      "h_0 = mult(mult(max(x1, p0), mult(p1, p0)), max(x3, max(mult(x2, x0), mult(p1, p0))))\n",
      "h_1 = mult(max(add(x0, x0), mult(add(x0, x1), add(x3, x1))), x2)\n",
      "g_0 = sub(p0, add(max(p0, p1), sub(h0, mult(h1, sub(h0, p0)))))\n",
      "g_1 = add(max(mult(p1, h0), add(mult(mult(add(p1, p0), max(h0, p0)), h1), h1)), p0)\n",
      "[Gen 49] Best errors: (-0.49249999999999927, -1.0, 1.4479533751235752e-15, 75.00000000000001)\n",
      "179.46036386489868\n"
     ]
    }
   ],
   "source": [
    "import operator\n",
    "reduced_operations = {\n",
    "    'add': (operator.add, 2),\n",
    "    'sub': (operator.sub, 2),\n",
    "    'mult': (operator.mul, 2),\n",
    "    'max': (np.maximum, 2)\n",
    "}\n",
    "import time\n",
    "time_s = time.time()\n",
    "run_num = 1\n",
    "gens = [[] for _ in range(run_num)]\n",
    "for r in range(run_num):\n",
    "    symreg = SymReg(acc_loss_fn_min,\n",
    "                    X_all,\n",
    "                    y_all,\n",
    "                    3,\n",
    "                    2,\n",
    "                    2,\n",
    "                    2,\n",
    "                    1000,\n",
    "                    operations=reduced_operations,\n",
    "                    mutate_params=False)\n",
    "    symreg.fit(50, 1, 1)\n",
    "print (time.time() - time_s)"
   ]
  },
  {
   "cell_type": "code",
   "execution_count": 19,
   "metadata": {},
   "outputs": [
    {
     "name": "stdout",
     "output_type": "stream",
     "text": [
      "x ['a', 'b']\n",
      "y ['c', 'd']\n"
     ]
    }
   ],
   "source": [
    "r = ['a', 'b'], ['c', 'd']\n",
    "def f(x, y):\n",
    "    print ('x', x)\n",
    "    print ('y', y)\n",
    "f(*r)"
   ]
  },
  {
   "cell_type": "code",
   "execution_count": 325,
   "metadata": {},
   "outputs": [
    {
     "data": {
      "text/plain": [
       "('add(x0, add(mult(p0, x1), x2))', 4, 1)"
      ]
     },
     "execution_count": 325,
     "metadata": {},
     "output_type": "execute_result"
    }
   ],
   "source": []
  },
  {
   "cell_type": "code",
   "execution_count": 118,
   "metadata": {},
   "outputs": [
    {
     "name": "stdout",
     "output_type": "stream",
     "text": [
      "\n",
      "h_0 = add(add(add(p3, x0), add(p1, p2)), mult(mult(x1, p1), add(x2, p0)))\n",
      "h_1 = max(sub(mult(x0, sub(add(x1, p0), add(mult(x2, p3), sub(x3, p0)))), x1), max(mult(p3, x2), mult(x3, x1)))\n",
      "g_0 = mult(max(max(h1, p0), max(p0, p3)), add(add(sub(sub(h1, p0), max(p2, max(max(mult(h1, p2), max(p0, p2)), h0))), h1), sub(h0, p1)))\n",
      "g_1 = max(max(mult(h1, h0), max(mult(h1, mult(h0, sub(h1, h0))), mult(sub(mult(p2, p0), sub(h1, h1)), mult(h1, p2)))), p3)\n"
     ]
    }
   ],
   "source": [
    "for r in range(run_num):\n",
    "    subgen = sorted(gens[r][0], key = lambda x: x.fitness)[-1]\n",
    "    print (subgen)"
   ]
  },
  {
   "cell_type": "code",
   "execution_count": 59,
   "metadata": {},
   "outputs": [],
   "source": [
    "from onetask_hid_pool import Node, DEFAULT_OPERATIONS, Composition"
   ]
  },
  {
   "cell_type": "code",
   "execution_count": 61,
   "metadata": {},
   "outputs": [
    {
     "name": "stdout",
     "output_type": "stream",
     "text": [
      "\n",
      "h_0 = add(x0, add(mult(p0, x1), x2))\n",
      "h_1 = add(x1, add(mult(p0, x2), x3))\n",
      "g_0 = add(max(h0, h1), p0)\n"
     ]
    }
   ],
   "source": [
    "x1 = Node('x0')\n",
    "x2 = Node('x1')\n",
    "x3 = Node('x2')\n",
    "x4 = Node('x3')\n",
    "p0 = Node('p0')\n",
    "p1 = Node('p1')\n",
    "mx1 = Node('mult', [p0, x2])\n",
    "mx2 = Node('mult', [p0, x3])\n",
    "\n",
    "mx11 = Node('add', [mx1, x3])\n",
    "mx22 = Node('add', [mx2, x4])\n",
    "\n",
    "h1 = Node('add', [x1, mx11])\n",
    "h2 = Node('add', [x2, mx22])\n",
    "h1_ = Node('h0')\n",
    "h2_ = Node('h1')\n",
    "g0 = Node('max', [h1_, h2_])\n",
    "comp = Composition([h1, h2], [Node('add', [g0, p0])])\n",
    "print(comp)"
   ]
  },
  {
   "cell_type": "code",
   "execution_count": 64,
   "metadata": {},
   "outputs": [
    {
     "data": {
      "text/plain": [
       "array([ True,  True,  True,  True,  True,  True,  True,  True,  True,\n",
       "        True,  True,  True,  True,  True,  True,  True,  True,  True,\n",
       "        True,  True,  True,  True,  True,  True])"
      ]
     },
     "execution_count": 64,
     "metadata": {},
     "output_type": "execute_result"
    }
   ],
   "source": [
    "\n",
    "np.equal(np.round(evaluate_composition(comp, {f'x{i}':X_all[:24,i] for i in range(4)}, {'p0':  -1.0}, DEFAULT_OPERATIONS)) > 0, y_all[:24])\n"
   ]
  },
  {
   "cell_type": "code",
   "execution_count": 42,
   "metadata": {},
   "outputs": [],
   "source": [
    "hiddens, res = evaluate_composition(comp, {f'x{i}':X_all[:,i] for i in range(4)}, {'p0':  -1.0}, DEFAULT_OPERATIONS, True)"
   ]
  },
  {
   "cell_type": "code",
   "execution_count": 43,
   "metadata": {},
   "outputs": [],
   "source": [
    "hiddens = np.array(list(hiddens.values())).T"
   ]
  },
  {
   "cell_type": "code",
   "execution_count": 47,
   "metadata": {},
   "outputs": [
    {
     "data": {
      "text/plain": [
       "(1.1316154984981068,\n",
       " 46,\n",
       " array([[ 1.        , -0.79416553],\n",
       "        [-0.79416553,  1.        ]]))"
      ]
     },
     "execution_count": 47,
     "metadata": {},
     "output_type": "execute_result"
    }
   ],
   "source": [
    "micd(hiddens, Y_all), compress_score(str(h1)+';'+str(h2)), np.corrcoef(hiddens.T)"
   ]
  },
  {
   "cell_type": "code",
   "execution_count": 45,
   "metadata": {},
   "outputs": [],
   "source": [
    "def simple_mi(h, y):\n",
    "    mi = 0.0\n",
    "    for _ in range(100):\n",
    "        # Случайная проекция (например, гауссовская)\n",
    "        P = np.random.randn(h.shape[1], 1)  # Проекция на 1 признак\n",
    "\n",
    "        # Вычисление ковариации между x и проекцией y\n",
    "        cov_matrix = np.cov(h @ P, y.reshape(-1, 1).T, rowvar=False)\n",
    "        mi += cov_matrix[0, 1]**2\n",
    "    return mi"
   ]
  },
  {
   "cell_type": "code",
   "execution_count": 46,
   "metadata": {},
   "outputs": [
    {
     "ename": "RuntimeError",
     "evalue": "Given groups=1, weight of size [1, 1, 3], expected input[1, 100, 4] to have 1 channels, but got 100 channels instead",
     "output_type": "error",
     "traceback": [
      "\u001b[0;31m---------------------------------------------------------------------------\u001b[0m",
      "\u001b[0;31mRuntimeError\u001b[0m                              Traceback (most recent call last)",
      "Cell \u001b[0;32mIn[46], line 2\u001b[0m\n\u001b[1;32m      1\u001b[0m \u001b[38;5;28;01mfrom\u001b[39;00m \u001b[38;5;21;01mmi\u001b[39;00m \u001b[38;5;28;01mimport\u001b[39;00m micd\n\u001b[0;32m----> 2\u001b[0m conv_out \u001b[38;5;241m=\u001b[39m \u001b[43mmodel\u001b[49m\u001b[38;5;241;43m.\u001b[39;49m\u001b[43mconv\u001b[49m\u001b[43m(\u001b[49m\u001b[43mtrain_dataset\u001b[49m\u001b[43m[\u001b[49m\u001b[38;5;241;43m0\u001b[39;49m\u001b[43m]\u001b[49m\u001b[43m)\u001b[49m\u001b[38;5;241m.\u001b[39mview(\u001b[38;5;241m100\u001b[39m, \u001b[38;5;241m-\u001b[39m\u001b[38;5;241m1\u001b[39m)\n\u001b[1;32m      3\u001b[0m conv_out\u001b[38;5;241m.\u001b[39mshape\n\u001b[1;32m      4\u001b[0m simple_mi(conv_out\u001b[38;5;241m.\u001b[39mdetach()\u001b[38;5;241m.\u001b[39mnumpy(), train_dataset[\u001b[38;5;241m1\u001b[39m]), micd(conv_out\u001b[38;5;241m.\u001b[39mdetach()\u001b[38;5;241m.\u001b[39mnumpy(), train_dataset[\u001b[38;5;241m1\u001b[39m])\n",
      "File \u001b[0;32m/usr/local/lib/python3.10/dist-packages/torch/nn/modules/module.py:1501\u001b[0m, in \u001b[0;36mModule._call_impl\u001b[0;34m(self, *args, **kwargs)\u001b[0m\n\u001b[1;32m   1496\u001b[0m \u001b[38;5;66;03m# If we don't have any hooks, we want to skip the rest of the logic in\u001b[39;00m\n\u001b[1;32m   1497\u001b[0m \u001b[38;5;66;03m# this function, and just call forward.\u001b[39;00m\n\u001b[1;32m   1498\u001b[0m \u001b[38;5;28;01mif\u001b[39;00m \u001b[38;5;129;01mnot\u001b[39;00m (\u001b[38;5;28mself\u001b[39m\u001b[38;5;241m.\u001b[39m_backward_hooks \u001b[38;5;129;01mor\u001b[39;00m \u001b[38;5;28mself\u001b[39m\u001b[38;5;241m.\u001b[39m_backward_pre_hooks \u001b[38;5;129;01mor\u001b[39;00m \u001b[38;5;28mself\u001b[39m\u001b[38;5;241m.\u001b[39m_forward_hooks \u001b[38;5;129;01mor\u001b[39;00m \u001b[38;5;28mself\u001b[39m\u001b[38;5;241m.\u001b[39m_forward_pre_hooks\n\u001b[1;32m   1499\u001b[0m         \u001b[38;5;129;01mor\u001b[39;00m _global_backward_pre_hooks \u001b[38;5;129;01mor\u001b[39;00m _global_backward_hooks\n\u001b[1;32m   1500\u001b[0m         \u001b[38;5;129;01mor\u001b[39;00m _global_forward_hooks \u001b[38;5;129;01mor\u001b[39;00m _global_forward_pre_hooks):\n\u001b[0;32m-> 1501\u001b[0m     \u001b[38;5;28;01mreturn\u001b[39;00m \u001b[43mforward_call\u001b[49m\u001b[43m(\u001b[49m\u001b[38;5;241;43m*\u001b[39;49m\u001b[43margs\u001b[49m\u001b[43m,\u001b[49m\u001b[43m \u001b[49m\u001b[38;5;241;43m*\u001b[39;49m\u001b[38;5;241;43m*\u001b[39;49m\u001b[43mkwargs\u001b[49m\u001b[43m)\u001b[49m\n\u001b[1;32m   1502\u001b[0m \u001b[38;5;66;03m# Do not call functions when jit is used\u001b[39;00m\n\u001b[1;32m   1503\u001b[0m full_backward_hooks, non_full_backward_hooks \u001b[38;5;241m=\u001b[39m [], []\n",
      "File \u001b[0;32m/usr/local/lib/python3.10/dist-packages/torch/nn/modules/conv.py:313\u001b[0m, in \u001b[0;36mConv1d.forward\u001b[0;34m(self, input)\u001b[0m\n\u001b[1;32m    312\u001b[0m \u001b[38;5;28;01mdef\u001b[39;00m \u001b[38;5;21mforward\u001b[39m(\u001b[38;5;28mself\u001b[39m, \u001b[38;5;28minput\u001b[39m: Tensor) \u001b[38;5;241m-\u001b[39m\u001b[38;5;241m>\u001b[39m Tensor:\n\u001b[0;32m--> 313\u001b[0m     \u001b[38;5;28;01mreturn\u001b[39;00m \u001b[38;5;28;43mself\u001b[39;49m\u001b[38;5;241;43m.\u001b[39;49m\u001b[43m_conv_forward\u001b[49m\u001b[43m(\u001b[49m\u001b[38;5;28;43minput\u001b[39;49m\u001b[43m,\u001b[49m\u001b[43m \u001b[49m\u001b[38;5;28;43mself\u001b[39;49m\u001b[38;5;241;43m.\u001b[39;49m\u001b[43mweight\u001b[49m\u001b[43m,\u001b[49m\u001b[43m \u001b[49m\u001b[38;5;28;43mself\u001b[39;49m\u001b[38;5;241;43m.\u001b[39;49m\u001b[43mbias\u001b[49m\u001b[43m)\u001b[49m\n",
      "File \u001b[0;32m/usr/local/lib/python3.10/dist-packages/torch/nn/modules/conv.py:309\u001b[0m, in \u001b[0;36mConv1d._conv_forward\u001b[0;34m(self, input, weight, bias)\u001b[0m\n\u001b[1;32m    305\u001b[0m \u001b[38;5;28;01mif\u001b[39;00m \u001b[38;5;28mself\u001b[39m\u001b[38;5;241m.\u001b[39mpadding_mode \u001b[38;5;241m!=\u001b[39m \u001b[38;5;124m'\u001b[39m\u001b[38;5;124mzeros\u001b[39m\u001b[38;5;124m'\u001b[39m:\n\u001b[1;32m    306\u001b[0m     \u001b[38;5;28;01mreturn\u001b[39;00m F\u001b[38;5;241m.\u001b[39mconv1d(F\u001b[38;5;241m.\u001b[39mpad(\u001b[38;5;28minput\u001b[39m, \u001b[38;5;28mself\u001b[39m\u001b[38;5;241m.\u001b[39m_reversed_padding_repeated_twice, mode\u001b[38;5;241m=\u001b[39m\u001b[38;5;28mself\u001b[39m\u001b[38;5;241m.\u001b[39mpadding_mode),\n\u001b[1;32m    307\u001b[0m                     weight, bias, \u001b[38;5;28mself\u001b[39m\u001b[38;5;241m.\u001b[39mstride,\n\u001b[1;32m    308\u001b[0m                     _single(\u001b[38;5;241m0\u001b[39m), \u001b[38;5;28mself\u001b[39m\u001b[38;5;241m.\u001b[39mdilation, \u001b[38;5;28mself\u001b[39m\u001b[38;5;241m.\u001b[39mgroups)\n\u001b[0;32m--> 309\u001b[0m \u001b[38;5;28;01mreturn\u001b[39;00m \u001b[43mF\u001b[49m\u001b[38;5;241;43m.\u001b[39;49m\u001b[43mconv1d\u001b[49m\u001b[43m(\u001b[49m\u001b[38;5;28;43minput\u001b[39;49m\u001b[43m,\u001b[49m\u001b[43m \u001b[49m\u001b[43mweight\u001b[49m\u001b[43m,\u001b[49m\u001b[43m \u001b[49m\u001b[43mbias\u001b[49m\u001b[43m,\u001b[49m\u001b[43m \u001b[49m\u001b[38;5;28;43mself\u001b[39;49m\u001b[38;5;241;43m.\u001b[39;49m\u001b[43mstride\u001b[49m\u001b[43m,\u001b[49m\n\u001b[1;32m    310\u001b[0m \u001b[43m                \u001b[49m\u001b[38;5;28;43mself\u001b[39;49m\u001b[38;5;241;43m.\u001b[39;49m\u001b[43mpadding\u001b[49m\u001b[43m,\u001b[49m\u001b[43m \u001b[49m\u001b[38;5;28;43mself\u001b[39;49m\u001b[38;5;241;43m.\u001b[39;49m\u001b[43mdilation\u001b[49m\u001b[43m,\u001b[49m\u001b[43m \u001b[49m\u001b[38;5;28;43mself\u001b[39;49m\u001b[38;5;241;43m.\u001b[39;49m\u001b[43mgroups\u001b[49m\u001b[43m)\u001b[49m\n",
      "\u001b[0;31mRuntimeError\u001b[0m: Given groups=1, weight of size [1, 1, 3], expected input[1, 100, 4] to have 1 channels, but got 100 channels instead"
     ]
    }
   ],
   "source": [
    "from mi import micd\n",
    "conv_out = model.conv(train_dataset[0]).view(100, -1)\n",
    "conv_out.shape\n",
    "simple_mi(conv_out.detach().numpy(), train_dataset[1]), micd(conv_out.detach().numpy(), train_dataset[1])"
   ]
  },
  {
   "cell_type": "code",
   "execution_count": 14,
   "metadata": {},
   "outputs": [],
   "source": [
    "from sklearn.metrics import mutual_info_score\n",
    "from onetask_hid_pool import evaluate_tree\n",
    "\n",
    "\n",
    "def discretize(vec, bins=10):\n",
    "    return np.digitize(vec, bins=np.histogram_bin_edges(vec, bins=bins))\n",
    "\n",
    "\n",
    "\n",
    "\n",
    "\n",
    "def acc_loss_fn(x, y, ind, variables, pool, OPERATIONS):\n",
    "    new_vars = []\n",
    "\n",
    "    mi = 0.0\n",
    "\n",
    "    for h_id, h in enumerate(ind.children_h):\n",
    "        res = np.array(evaluate_tree(h, variables | pool, OPERATIONS))\n",
    "        if len(res.shape) == 0:\n",
    "            res = np.ones(x.shape[0]) * res\n",
    "        new_vars.append(res)\n",
    "\n",
    "    new_vars = np.array(new_vars).T\n",
    "    try:\n",
    "        mi = float(micd(new_vars, y))  #simple_mi(new_vars, y)\n",
    "    except:\n",
    "        mi = 10000000.0\n",
    "\n",
    "    y_pred = evaluate_composition(ind, variables, pool, OPERATIONS) > 0\n",
    "    result = np.equal(y, y_pred).mean()\n",
    "    loss = result\n",
    "    compl = compress_score(';'.join([str(h) for h in ind.children_h\n",
    "                                     ]))  #composition_node_num(ind)\n",
    "\n",
    "    corr = abs(np.corrcoef(new_vars.T))\n",
    "    corr[corr != corr] = 1.0\n",
    "    corr = corr.mean()\n",
    "    return -loss + compl * 0.00001 + mi * 0.001 + corr * 1.0, loss, compl, mi, corr"
   ]
  },
  {
   "cell_type": "code",
   "execution_count": 146,
   "metadata": {},
   "outputs": [
    {
     "ename": "NameError",
     "evalue": "name 'acc_loss_fn' is not defined",
     "output_type": "error",
     "traceback": [
      "\u001b[0;31m---------------------------------------------------------------------------\u001b[0m",
      "\u001b[0;31mNameError\u001b[0m                                 Traceback (most recent call last)",
      "Cell \u001b[0;32mIn[146], line 10\u001b[0m\n\u001b[1;32m      1\u001b[0m \u001b[38;5;28;01mimport\u001b[39;00m \u001b[38;5;21;01moperator\u001b[39;00m\n\u001b[1;32m      2\u001b[0m DEFAULT_OPERATIONS \u001b[38;5;241m=\u001b[39m {\n\u001b[1;32m      3\u001b[0m     \u001b[38;5;124m'\u001b[39m\u001b[38;5;124madd\u001b[39m\u001b[38;5;124m'\u001b[39m: (operator\u001b[38;5;241m.\u001b[39madd, \u001b[38;5;241m2\u001b[39m),\n\u001b[1;32m      4\u001b[0m     \u001b[38;5;124m'\u001b[39m\u001b[38;5;124msub\u001b[39m\u001b[38;5;124m'\u001b[39m: (operator\u001b[38;5;241m.\u001b[39msub, \u001b[38;5;241m2\u001b[39m),\n\u001b[1;32m      5\u001b[0m     \u001b[38;5;124m'\u001b[39m\u001b[38;5;124mmult\u001b[39m\u001b[38;5;124m'\u001b[39m: (operator\u001b[38;5;241m.\u001b[39mmul, \u001b[38;5;241m2\u001b[39m),\n\u001b[1;32m      6\u001b[0m     \u001b[38;5;124m'\u001b[39m\u001b[38;5;124mmax\u001b[39m\u001b[38;5;124m'\u001b[39m: (np\u001b[38;5;241m.\u001b[39mmaximum, \u001b[38;5;241m2\u001b[39m)\n\u001b[1;32m      7\u001b[0m }\n\u001b[0;32m---> 10\u001b[0m best, trees \u001b[38;5;241m=\u001b[39m run_deap_gp(\u001b[43macc_loss_fn\u001b[49m,\n\u001b[1;32m     11\u001b[0m                           \u001b[38;5;241m4\u001b[39m,\n\u001b[1;32m     12\u001b[0m                           \u001b[38;5;241m16\u001b[39m,\n\u001b[1;32m     13\u001b[0m                           \u001b[38;5;241m16\u001b[39m,\n\u001b[1;32m     14\u001b[0m                           X_all,\n\u001b[1;32m     15\u001b[0m                           Y_all,\n\u001b[1;32m     16\u001b[0m                           generations\u001b[38;5;241m=\u001b[39m\u001b[38;5;241m1000\u001b[39m,\n\u001b[1;32m     17\u001b[0m                           raise_error\u001b[38;5;241m=\u001b[39m\u001b[38;5;28;01mTrue\u001b[39;00m,\n\u001b[1;32m     18\u001b[0m                           log_perf_every\u001b[38;5;241m=\u001b[39m\u001b[38;5;241m10\u001b[39m,\n\u001b[1;32m     19\u001b[0m                           log_models_every\u001b[38;5;241m=\u001b[39m\u001b[38;5;241m-\u001b[39m\u001b[38;5;241m1\u001b[39m,\n\u001b[1;32m     20\u001b[0m                           OPERATIONS\u001b[38;5;241m=\u001b[39mDEFAULT_OPERATIONS\n\u001b[1;32m     21\u001b[0m                           )\n\u001b[1;32m     22\u001b[0m \u001b[38;5;28mprint\u001b[39m(\u001b[38;5;124m\"\u001b[39m\u001b[38;5;124mBest expression:\u001b[39m\u001b[38;5;124m\"\u001b[39m, best)\n",
      "\u001b[0;31mNameError\u001b[0m: name 'acc_loss_fn' is not defined"
     ]
    }
   ],
   "source": [
    "import operator\n",
    "DEFAULT_OPERATIONS = {\n",
    "    'add': (operator.add, 2),\n",
    "    'sub': (operator.sub, 2),\n",
    "    'mult': (operator.mul, 2),\n",
    "    'max': (np.maximum, 2)\n",
    "}\n",
    "\n",
    "\n",
    "best, trees = run_deap_gp(acc_loss_fn,\n",
    "                          4,\n",
    "                          16,\n",
    "                          16,\n",
    "                          X_all,\n",
    "                          Y_all,\n",
    "                          generations=1000,\n",
    "                          raise_error=True,\n",
    "                          log_perf_every=10,\n",
    "                          log_models_every=-1,\n",
    "                          OPERATIONS=DEFAULT_OPERATIONS\n",
    "                          )\n",
    "print(\"Best expression:\", best)\n"
   ]
  },
  {
   "cell_type": "code",
   "execution_count": null,
   "metadata": {},
   "outputs": [],
   "source": []
  },
  {
   "cell_type": "code",
   "execution_count": 27,
   "metadata": {},
   "outputs": [
    {
     "data": {
      "text/plain": [
       "<matplotlib.image.AxesImage at 0x7d06b8239210>"
      ]
     },
     "execution_count": 27,
     "metadata": {},
     "output_type": "execute_result"
    },
    {
     "data": {
      "image/png": "[encoded data removed]",
      "text/plain": [
       "<Figure size 480x480 with 1 Axes>"
      ]
     },
     "metadata": {},
     "output_type": "display_data"
    }
   ],
   "source": [
    "mat = np.zeros((6, 6))\n",
    "i = np.unravel_index([12, 15, 22, 24, 35], [6, 6])\n",
    "mat[i] = 1\n",
    "plt.matshow(mat)"
   ]
  },
  {
   "cell_type": "code",
   "execution_count": 13,
   "metadata": {},
   "outputs": [],
   "source": [
    "from scipy.optimize import minimize\n",
    "\n",
    "\n",
    "def acc_loss_fn_min(x, y, ind, variables, pool, OPERATIONS):\n",
    "\n",
    "    def min_func(x0):\n",
    "        \n",
    "        pool_ = {f'p{i}': x0[i] for i in range(len(x0))}\n",
    "        y_pred = evaluate_composition(ind, variables, pool_, OPERATIONS) > 0\n",
    "        result = np.equal(y, y_pred).mean()\n",
    "        return result\n",
    "\n",
    "    x_opt = minimize(min_func, list(pool.values()))\n",
    "    loss = min_func(x_opt.x)\n",
    "    compl = composition_node_num(ind)\n",
    "    return -loss + compl * 1e-10, loss, compl"
   ]
  },
  {
   "cell_type": "code",
   "execution_count": 16,
   "metadata": {},
   "outputs": [
    {
     "name": "stdout",
     "output_type": "stream",
     "text": [
      "[Gen 0] Best errors: (-0.4999999857, 0.5, 143.0)\n",
      "[Gen 100] Best errors: (-0.5899999949, 0.59, 51.0)\n",
      "[Gen 200] Best errors: (-0.6099999956, 0.61, 44.00000000000001)\n",
      "[Gen 300] Best errors: (-0.6099999956, 0.61, 44.00000000000001)\n",
      "[Gen 400] Best errors: (-0.6099999956, 0.61, 44.00000000000001)\n",
      "[Gen 500] Best errors: (-0.6099999956, 0.61, 44.00000000000001)\n",
      "[Gen 600] Best errors: (-0.6099999956, 0.61, 44.00000000000001)\n",
      "[Gen 700] Best errors: (-0.6099999956, 0.61, 44.00000000000001)\n",
      "[Gen 800] Best errors: (-0.6099999956, 0.61, 44.00000000000001)\n",
      "[Gen 900] Best errors: (-0.6099999956, 0.61, 44.00000000000001)\n",
      "[Gen 1000] Best errors: (-0.6099999956, 0.61, 44.00000000000001)\n",
      "[Gen 1100] Best errors: (-0.6099999956, 0.61, 44.00000000000001)\n",
      "[Gen 1200] Best errors: (-0.6099999956, 0.61, 44.00000000000001)\n",
      "[Gen 1300] Best errors: (-0.6099999956, 0.61, 44.00000000000001)\n",
      "[Gen 1400] Best errors: (-0.6099999956, 0.61, 44.00000000000001)\n",
      "[Gen 1500] Best errors: (-0.6099999956, 0.61, 44.00000000000001)\n",
      "[Gen 1600] Best errors: (-0.6099999956, 0.61, 44.00000000000001)\n",
      "[Gen 1700] Best errors: (-0.6099999956, 0.61, 44.00000000000001)\n",
      "[Gen 1800] Best errors: (-0.6099999956, 0.61, 44.00000000000001)\n",
      "[Gen 1900] Best errors: (-0.6099999956, 0.61, 44.00000000000001)\n",
      "[Gen 2000] Best errors: (-0.6099999956, 0.61, 44.00000000000001)\n",
      "[Gen 2100] Best errors: (-0.6149999947, 0.6150000000000001, 53.0)\n",
      "[Gen 2200] Best errors: (-0.6149999948, 0.6150000000000001, 52.0)\n",
      "[Gen 2300] Best errors: (-0.6199999947, 0.62, 53.0)\n",
      "[Gen 2400] Best errors: (-0.6199999947, 0.62, 53.0)\n",
      "[Gen 2500] Best errors: (-0.6199999947, 0.62, 53.0)\n",
      "[Gen 2600] Best errors: (-0.6199999947, 0.62, 53.0)\n",
      "[Gen 2700] Best errors: (-0.6249999947, 0.625, 53.0)\n",
      "[Gen 2800] Best errors: (-0.6249999947, 0.625, 53.0)\n",
      "[Gen 2900] Best errors: (-0.6249999947, 0.625, 53.0)\n",
      "[Gen 3000] Best errors: (-0.6249999947, 0.625, 53.0)\n",
      "[Gen 3100] Best errors: (-0.6249999947, 0.625, 53.0)\n",
      "[Gen 3200] Best errors: (-0.6249999947, 0.625, 53.0)\n",
      "[Gen 3300] Best errors: (-0.6249999947, 0.625, 53.0)\n",
      "[Gen 3400] Best errors: (-0.6249999947, 0.625, 53.0)\n",
      "[Gen 3500] Best errors: (-0.6249999947, 0.625, 53.0)\n",
      "[Gen 3600] Best errors: (-0.6249999947, 0.625, 53.0)\n",
      "[Gen 3700] Best errors: (-0.6249999947, 0.625, 53.0)\n",
      "[Gen 3800] Best errors: (-0.6249999947, 0.625, 53.0)\n",
      "[Gen 3900] Best errors: (-0.6249999947, 0.625, 53.0)\n",
      "[Gen 4000] Best errors: (-0.6249999947, 0.625, 53.0)\n",
      "[Gen 4100] Best errors: (-0.6249999947, 0.625, 53.0)\n",
      "[Gen 4200] Best errors: (-0.6249999947, 0.625, 53.0)\n",
      "[Gen 4300] Best errors: (-0.6249999947, 0.625, 53.0)\n",
      "[Gen 4400] Best errors: (-0.6249999947, 0.625, 53.0)\n",
      "[Gen 4500] Best errors: (-0.6249999947, 0.625, 53.0)\n",
      "[Gen 4600] Best errors: (-0.6249999947, 0.625, 53.0)\n",
      "[Gen 4700] Best errors: (-0.6249999947, 0.625, 53.0)\n",
      "[Gen 4800] Best errors: (-0.6249999947, 0.625, 53.0)\n",
      "[Gen 4900] Best errors: (-0.6249999947, 0.625, 53.0)\n",
      "[Gen 5000] Best errors: (-0.6249999947, 0.625, 53.0)\n",
      "[Gen 5100] Best errors: (-0.6249999947, 0.625, 53.0)\n",
      "[Gen 5200] Best errors: (-0.6249999947, 0.625, 53.0)\n",
      "[Gen 5300] Best errors: (-0.6249999947, 0.625, 53.0)\n",
      "[Gen 5400] Best errors: (-0.6249999947, 0.625, 53.0)\n",
      "[Gen 5500] Best errors: (-0.6249999947, 0.625, 53.0)\n",
      "[Gen 5600] Best errors: (-0.6249999947, 0.625, 53.0)\n",
      "[Gen 5700] Best errors: (-0.6249999947, 0.625, 53.0)\n",
      "[Gen 5800] Best errors: (-0.6249999947, 0.625, 53.0)\n",
      "[Gen 5900] Best errors: (-0.6249999947, 0.625, 53.0)\n",
      "[Gen 6000] Best errors: (-0.6249999947, 0.625, 53.0)\n",
      "[Gen 6100] Best errors: (-0.6249999947, 0.625, 53.0)\n",
      "[Gen 6200] Best errors: (-0.6249999947, 0.625, 53.0)\n",
      "[Gen 6300] Best errors: (-0.6249999947, 0.625, 53.0)\n",
      "[Gen 6400] Best errors: (-0.6249999947, 0.625, 53.0)\n",
      "[Gen 6500] Best errors: (-0.6249999947, 0.625, 53.0)\n",
      "[Gen 6600] Best errors: (-0.6249999947, 0.625, 53.0)\n",
      "[Gen 6700] Best errors: (-0.6249999947, 0.625, 53.0)\n",
      "[Gen 6800] Best errors: (-0.6249999947, 0.625, 53.0)\n",
      "[Gen 6900] Best errors: (-0.6249999947, 0.625, 53.0)\n",
      "[Gen 7000] Best errors: (-0.6249999947, 0.625, 53.0)\n",
      "[Gen 7100] Best errors: (-0.6249999947, 0.625, 53.0)\n",
      "[Gen 7200] Best errors: (-0.6249999947, 0.625, 53.0)\n",
      "[Gen 7300] Best errors: (-0.6349999946, 0.635, 54.0)\n",
      "[Gen 7400] Best errors: (-0.6349999946, 0.635, 54.0)\n",
      "[Gen 7500] Best errors: (-0.6349999946, 0.635, 54.0)\n",
      "[Gen 7600] Best errors: (-0.6349999946, 0.635, 54.0)\n",
      "[Gen 7700] Best errors: (-0.6349999946, 0.635, 54.0)\n",
      "[Gen 7800] Best errors: (-0.6399999938, 0.64, 62.0)\n",
      "[Gen 7900] Best errors: (-0.6449999938000001, 0.6450000000000001, 62.0)\n",
      "[Gen 8000] Best errors: (-0.6449999938000001, 0.6450000000000001, 62.0)\n",
      "[Gen 8100] Best errors: (-0.6449999938000001, 0.6450000000000001, 62.0)\n",
      "[Gen 8200] Best errors: (-0.6449999938000001, 0.6450000000000001, 62.0)\n",
      "[Gen 8300] Best errors: (-0.6449999938000001, 0.6450000000000001, 62.0)\n",
      "[Gen 8400] Best errors: (-0.6449999938000001, 0.6450000000000001, 62.0)\n",
      "[Gen 8500] Best errors: (-0.6449999938000001, 0.6450000000000001, 62.0)\n",
      "[Gen 8600] Best errors: (-0.6449999938000001, 0.6450000000000001, 62.0)\n",
      "[Gen 8700] Best errors: (-0.6449999938000001, 0.6450000000000001, 62.0)\n",
      "[Gen 8800] Best errors: (-0.6449999938000001, 0.6450000000000001, 62.0)\n"
     ]
    },
    {
     "ename": "KeyboardInterrupt",
     "evalue": "",
     "output_type": "error",
     "traceback": [
      "\u001b[0;31m---------------------------------------------------------------------------\u001b[0m",
      "\u001b[0;31mKeyboardInterrupt\u001b[0m                         Traceback (most recent call last)",
      "Cell \u001b[0;32mIn[16], line 1\u001b[0m\n\u001b[0;32m----> 1\u001b[0m best, trees \u001b[38;5;241m=\u001b[39m \u001b[43mrun_deap_gp\u001b[49m\u001b[43m(\u001b[49m\u001b[43macc_loss_fn_min\u001b[49m\u001b[43m,\u001b[49m\n\u001b[1;32m      2\u001b[0m \u001b[43m                          \u001b[49m\u001b[38;5;241;43m2\u001b[39;49m\u001b[43m,\u001b[49m\n\u001b[1;32m      3\u001b[0m \u001b[43m                          \u001b[49m\u001b[38;5;241;43m36\u001b[39;49m\u001b[43m,\u001b[49m\n\u001b[1;32m      4\u001b[0m \u001b[43m                          \u001b[49m\u001b[38;5;241;43m16\u001b[39;49m\u001b[43m,\u001b[49m\n\u001b[1;32m      5\u001b[0m \u001b[43m                          \u001b[49m\u001b[43mX_all\u001b[49m\u001b[43m,\u001b[49m\n\u001b[1;32m      6\u001b[0m \u001b[43m                          \u001b[49m\u001b[43mY_all\u001b[49m\u001b[43m,\u001b[49m\n\u001b[1;32m      7\u001b[0m \u001b[43m                          \u001b[49m\u001b[43mgenerations\u001b[49m\u001b[38;5;241;43m=\u001b[39;49m\u001b[38;5;241;43m10000\u001b[39;49m\u001b[43m,\u001b[49m\n\u001b[1;32m      8\u001b[0m \u001b[43m                          \u001b[49m\u001b[43mraise_error\u001b[49m\u001b[38;5;241;43m=\u001b[39;49m\u001b[38;5;28;43;01mTrue\u001b[39;49;00m\u001b[43m,\u001b[49m\n\u001b[1;32m      9\u001b[0m \u001b[43m                          \u001b[49m\u001b[43mlog_perf_every\u001b[49m\u001b[38;5;241;43m=\u001b[39;49m\u001b[38;5;241;43m100\u001b[39;49m\u001b[43m,\u001b[49m\n\u001b[1;32m     10\u001b[0m \u001b[43m                          \u001b[49m\u001b[43mlog_models_every\u001b[49m\u001b[38;5;241;43m=\u001b[39;49m\u001b[38;5;241;43m-\u001b[39;49m\u001b[38;5;241;43m1\u001b[39;49m\u001b[43m,\u001b[49m\n\u001b[1;32m     11\u001b[0m \u001b[43m                          \u001b[49m\u001b[43mmutate_params\u001b[49m\u001b[38;5;241;43m=\u001b[39;49m\u001b[38;5;28;43;01mFalse\u001b[39;49;00m\n\u001b[1;32m     12\u001b[0m \u001b[43m                          \u001b[49m\n\u001b[1;32m     13\u001b[0m \u001b[43m                          \u001b[49m\u001b[43m)\u001b[49m\n\u001b[1;32m     14\u001b[0m \u001b[38;5;28mprint\u001b[39m(\u001b[38;5;124m\"\u001b[39m\u001b[38;5;124mBest expression:\u001b[39m\u001b[38;5;124m\"\u001b[39m, best)\n",
      "File \u001b[0;32m~/reps/mysymreg/onetask_hid_pool.py:204\u001b[0m, in \u001b[0;36mrun_deap_gp\u001b[0;34m(loss_fn, comp_num, hidden_num, param_num, x, y, init_pop, generations, pmut, weights, OPERATIONS, raise_error, weight_err_eps, log_models_every, log_perf_every, elite_part, mutate_params, current_gen)\u001b[0m\n\u001b[1;32m    201\u001b[0m pop \u001b[38;5;241m=\u001b[39m toolbox\u001b[38;5;241m.\u001b[39mpopulation(n\u001b[38;5;241m=\u001b[39minit_pop)\n\u001b[1;32m    203\u001b[0m \u001b[38;5;28;01mfor\u001b[39;00m gen \u001b[38;5;129;01min\u001b[39;00m \u001b[38;5;28mrange\u001b[39m(generations):\n\u001b[0;32m--> 204\u001b[0m     offspring \u001b[38;5;241m=\u001b[39m \u001b[43malgorithms\u001b[49m\u001b[38;5;241;43m.\u001b[39;49m\u001b[43mvarAnd\u001b[49m\u001b[43m(\u001b[49m\u001b[43mpop\u001b[49m\u001b[43m,\u001b[49m\u001b[43m \u001b[49m\u001b[43mtoolbox\u001b[49m\u001b[43m,\u001b[49m\u001b[43m \u001b[49m\u001b[43mcxpb\u001b[49m\u001b[38;5;241;43m=\u001b[39;49m\u001b[38;5;241;43m0.0\u001b[39;49m\u001b[43m,\u001b[49m\u001b[43m \u001b[49m\u001b[43mmutpb\u001b[49m\u001b[38;5;241;43m=\u001b[39;49m\u001b[43mpmut\u001b[49m\u001b[43m)\u001b[49m\n\u001b[1;32m    206\u001b[0m     \u001b[38;5;28;01mfor\u001b[39;00m ind \u001b[38;5;129;01min\u001b[39;00m offspring:\n\u001b[1;32m    207\u001b[0m         ind\u001b[38;5;241m.\u001b[39mfitness\u001b[38;5;241m.\u001b[39mvalues \u001b[38;5;241m=\u001b[39m toolbox\u001b[38;5;241m.\u001b[39mevaluate(ind)\n",
      "File \u001b[0;32m/usr/local/lib/python3.10/dist-packages/deap/algorithms.py:79\u001b[0m, in \u001b[0;36mvarAnd\u001b[0;34m(population, toolbox, cxpb, mutpb)\u001b[0m\n\u001b[1;32m     77\u001b[0m \u001b[38;5;28;01mfor\u001b[39;00m i \u001b[38;5;129;01min\u001b[39;00m \u001b[38;5;28mrange\u001b[39m(\u001b[38;5;28mlen\u001b[39m(offspring)):\n\u001b[1;32m     78\u001b[0m     \u001b[38;5;28;01mif\u001b[39;00m random\u001b[38;5;241m.\u001b[39mrandom() \u001b[38;5;241m<\u001b[39m mutpb:\n\u001b[0;32m---> 79\u001b[0m         offspring[i], \u001b[38;5;241m=\u001b[39m \u001b[43mtoolbox\u001b[49m\u001b[38;5;241;43m.\u001b[39;49m\u001b[43mmutate\u001b[49m\u001b[43m(\u001b[49m\u001b[43moffspring\u001b[49m\u001b[43m[\u001b[49m\u001b[43mi\u001b[49m\u001b[43m]\u001b[49m\u001b[43m)\u001b[49m\n\u001b[1;32m     80\u001b[0m         \u001b[38;5;28;01mdel\u001b[39;00m offspring[i]\u001b[38;5;241m.\u001b[39mfitness\u001b[38;5;241m.\u001b[39mvalues\n\u001b[1;32m     82\u001b[0m \u001b[38;5;28;01mreturn\u001b[39;00m offspring\n",
      "File \u001b[0;32m~/reps/mysymreg/onetask_hid_pool.py:151\u001b[0m, in \u001b[0;36mrun_deap_gp.<locals>.mutate\u001b[0;34m(ind)\u001b[0m\n\u001b[1;32m    150\u001b[0m \u001b[38;5;28;01mdef\u001b[39;00m \u001b[38;5;21mmutate\u001b[39m(ind):\n\u001b[0;32m--> 151\u001b[0m     ind_copy \u001b[38;5;241m=\u001b[39m \u001b[43mind\u001b[49m\u001b[38;5;241;43m.\u001b[39;49m\u001b[43mcopy\u001b[49m\u001b[43m(\u001b[49m\u001b[43m)\u001b[49m\n\u001b[1;32m    152\u001b[0m     element_id \u001b[38;5;241m=\u001b[39m random\u001b[38;5;241m.\u001b[39mrandint(\u001b[38;5;241m0\u001b[39m, hidden_num)\n\u001b[1;32m    153\u001b[0m     \u001b[38;5;28;01mif\u001b[39;00m element_id \u001b[38;5;241m<\u001b[39m hidden_num:\n",
      "File \u001b[0;32m~/reps/mysymreg/onetask_hid_pool.py:25\u001b[0m, in \u001b[0;36mComposition.copy\u001b[0;34m(self)\u001b[0m\n\u001b[1;32m     24\u001b[0m \u001b[38;5;28;01mdef\u001b[39;00m \u001b[38;5;21mcopy\u001b[39m(\u001b[38;5;28mself\u001b[39m):\n\u001b[0;32m---> 25\u001b[0m     \u001b[38;5;28;01mreturn\u001b[39;00m \u001b[43mdeepcopy\u001b[49m\u001b[43m(\u001b[49m\u001b[38;5;28;43mself\u001b[39;49m\u001b[43m)\u001b[49m\n",
      "File \u001b[0;32m/usr/lib/python3.10/copy.py:172\u001b[0m, in \u001b[0;36mdeepcopy\u001b[0;34m(x, memo, _nil)\u001b[0m\n\u001b[1;32m    170\u001b[0m                 y \u001b[38;5;241m=\u001b[39m x\n\u001b[1;32m    171\u001b[0m             \u001b[38;5;28;01melse\u001b[39;00m:\n\u001b[0;32m--> 172\u001b[0m                 y \u001b[38;5;241m=\u001b[39m \u001b[43m_reconstruct\u001b[49m\u001b[43m(\u001b[49m\u001b[43mx\u001b[49m\u001b[43m,\u001b[49m\u001b[43m \u001b[49m\u001b[43mmemo\u001b[49m\u001b[43m,\u001b[49m\u001b[43m \u001b[49m\u001b[38;5;241;43m*\u001b[39;49m\u001b[43mrv\u001b[49m\u001b[43m)\u001b[49m\n\u001b[1;32m    174\u001b[0m \u001b[38;5;66;03m# If is its own copy, don't memoize.\u001b[39;00m\n\u001b[1;32m    175\u001b[0m \u001b[38;5;28;01mif\u001b[39;00m y \u001b[38;5;129;01mis\u001b[39;00m \u001b[38;5;129;01mnot\u001b[39;00m x:\n",
      "File \u001b[0;32m/usr/lib/python3.10/copy.py:271\u001b[0m, in \u001b[0;36m_reconstruct\u001b[0;34m(x, memo, func, args, state, listiter, dictiter, deepcopy)\u001b[0m\n\u001b[1;32m    269\u001b[0m \u001b[38;5;28;01mif\u001b[39;00m state \u001b[38;5;129;01mis\u001b[39;00m \u001b[38;5;129;01mnot\u001b[39;00m \u001b[38;5;28;01mNone\u001b[39;00m:\n\u001b[1;32m    270\u001b[0m     \u001b[38;5;28;01mif\u001b[39;00m deep:\n\u001b[0;32m--> 271\u001b[0m         state \u001b[38;5;241m=\u001b[39m \u001b[43mdeepcopy\u001b[49m\u001b[43m(\u001b[49m\u001b[43mstate\u001b[49m\u001b[43m,\u001b[49m\u001b[43m \u001b[49m\u001b[43mmemo\u001b[49m\u001b[43m)\u001b[49m\n\u001b[1;32m    272\u001b[0m     \u001b[38;5;28;01mif\u001b[39;00m \u001b[38;5;28mhasattr\u001b[39m(y, \u001b[38;5;124m'\u001b[39m\u001b[38;5;124m__setstate__\u001b[39m\u001b[38;5;124m'\u001b[39m):\n\u001b[1;32m    273\u001b[0m         y\u001b[38;5;241m.\u001b[39m__setstate__(state)\n",
      "File \u001b[0;32m/usr/lib/python3.10/copy.py:146\u001b[0m, in \u001b[0;36mdeepcopy\u001b[0;34m(x, memo, _nil)\u001b[0m\n\u001b[1;32m    144\u001b[0m copier \u001b[38;5;241m=\u001b[39m _deepcopy_dispatch\u001b[38;5;241m.\u001b[39mget(\u001b[38;5;28mcls\u001b[39m)\n\u001b[1;32m    145\u001b[0m \u001b[38;5;28;01mif\u001b[39;00m copier \u001b[38;5;129;01mis\u001b[39;00m \u001b[38;5;129;01mnot\u001b[39;00m \u001b[38;5;28;01mNone\u001b[39;00m:\n\u001b[0;32m--> 146\u001b[0m     y \u001b[38;5;241m=\u001b[39m \u001b[43mcopier\u001b[49m\u001b[43m(\u001b[49m\u001b[43mx\u001b[49m\u001b[43m,\u001b[49m\u001b[43m \u001b[49m\u001b[43mmemo\u001b[49m\u001b[43m)\u001b[49m\n\u001b[1;32m    147\u001b[0m \u001b[38;5;28;01melse\u001b[39;00m:\n\u001b[1;32m    148\u001b[0m     \u001b[38;5;28;01mif\u001b[39;00m \u001b[38;5;28missubclass\u001b[39m(\u001b[38;5;28mcls\u001b[39m, \u001b[38;5;28mtype\u001b[39m):\n",
      "File \u001b[0;32m/usr/lib/python3.10/copy.py:231\u001b[0m, in \u001b[0;36m_deepcopy_dict\u001b[0;34m(x, memo, deepcopy)\u001b[0m\n\u001b[1;32m    229\u001b[0m memo[\u001b[38;5;28mid\u001b[39m(x)] \u001b[38;5;241m=\u001b[39m y\n\u001b[1;32m    230\u001b[0m \u001b[38;5;28;01mfor\u001b[39;00m key, value \u001b[38;5;129;01min\u001b[39;00m x\u001b[38;5;241m.\u001b[39mitems():\n\u001b[0;32m--> 231\u001b[0m     y[deepcopy(key, memo)] \u001b[38;5;241m=\u001b[39m \u001b[43mdeepcopy\u001b[49m\u001b[43m(\u001b[49m\u001b[43mvalue\u001b[49m\u001b[43m,\u001b[49m\u001b[43m \u001b[49m\u001b[43mmemo\u001b[49m\u001b[43m)\u001b[49m\n\u001b[1;32m    232\u001b[0m \u001b[38;5;28;01mreturn\u001b[39;00m y\n",
      "File \u001b[0;32m/usr/lib/python3.10/copy.py:146\u001b[0m, in \u001b[0;36mdeepcopy\u001b[0;34m(x, memo, _nil)\u001b[0m\n\u001b[1;32m    144\u001b[0m copier \u001b[38;5;241m=\u001b[39m _deepcopy_dispatch\u001b[38;5;241m.\u001b[39mget(\u001b[38;5;28mcls\u001b[39m)\n\u001b[1;32m    145\u001b[0m \u001b[38;5;28;01mif\u001b[39;00m copier \u001b[38;5;129;01mis\u001b[39;00m \u001b[38;5;129;01mnot\u001b[39;00m \u001b[38;5;28;01mNone\u001b[39;00m:\n\u001b[0;32m--> 146\u001b[0m     y \u001b[38;5;241m=\u001b[39m \u001b[43mcopier\u001b[49m\u001b[43m(\u001b[49m\u001b[43mx\u001b[49m\u001b[43m,\u001b[49m\u001b[43m \u001b[49m\u001b[43mmemo\u001b[49m\u001b[43m)\u001b[49m\n\u001b[1;32m    147\u001b[0m \u001b[38;5;28;01melse\u001b[39;00m:\n\u001b[1;32m    148\u001b[0m     \u001b[38;5;28;01mif\u001b[39;00m \u001b[38;5;28missubclass\u001b[39m(\u001b[38;5;28mcls\u001b[39m, \u001b[38;5;28mtype\u001b[39m):\n",
      "File \u001b[0;32m/usr/lib/python3.10/copy.py:206\u001b[0m, in \u001b[0;36m_deepcopy_list\u001b[0;34m(x, memo, deepcopy)\u001b[0m\n\u001b[1;32m    204\u001b[0m append \u001b[38;5;241m=\u001b[39m y\u001b[38;5;241m.\u001b[39mappend\n\u001b[1;32m    205\u001b[0m \u001b[38;5;28;01mfor\u001b[39;00m a \u001b[38;5;129;01min\u001b[39;00m x:\n\u001b[0;32m--> 206\u001b[0m     append(\u001b[43mdeepcopy\u001b[49m\u001b[43m(\u001b[49m\u001b[43ma\u001b[49m\u001b[43m,\u001b[49m\u001b[43m \u001b[49m\u001b[43mmemo\u001b[49m\u001b[43m)\u001b[49m)\n\u001b[1;32m    207\u001b[0m \u001b[38;5;28;01mreturn\u001b[39;00m y\n",
      "File \u001b[0;32m/usr/lib/python3.10/copy.py:172\u001b[0m, in \u001b[0;36mdeepcopy\u001b[0;34m(x, memo, _nil)\u001b[0m\n\u001b[1;32m    170\u001b[0m                 y \u001b[38;5;241m=\u001b[39m x\n\u001b[1;32m    171\u001b[0m             \u001b[38;5;28;01melse\u001b[39;00m:\n\u001b[0;32m--> 172\u001b[0m                 y \u001b[38;5;241m=\u001b[39m \u001b[43m_reconstruct\u001b[49m\u001b[43m(\u001b[49m\u001b[43mx\u001b[49m\u001b[43m,\u001b[49m\u001b[43m \u001b[49m\u001b[43mmemo\u001b[49m\u001b[43m,\u001b[49m\u001b[43m \u001b[49m\u001b[38;5;241;43m*\u001b[39;49m\u001b[43mrv\u001b[49m\u001b[43m)\u001b[49m\n\u001b[1;32m    174\u001b[0m \u001b[38;5;66;03m# If is its own copy, don't memoize.\u001b[39;00m\n\u001b[1;32m    175\u001b[0m \u001b[38;5;28;01mif\u001b[39;00m y \u001b[38;5;129;01mis\u001b[39;00m \u001b[38;5;129;01mnot\u001b[39;00m x:\n",
      "File \u001b[0;32m/usr/lib/python3.10/copy.py:271\u001b[0m, in \u001b[0;36m_reconstruct\u001b[0;34m(x, memo, func, args, state, listiter, dictiter, deepcopy)\u001b[0m\n\u001b[1;32m    269\u001b[0m \u001b[38;5;28;01mif\u001b[39;00m state \u001b[38;5;129;01mis\u001b[39;00m \u001b[38;5;129;01mnot\u001b[39;00m \u001b[38;5;28;01mNone\u001b[39;00m:\n\u001b[1;32m    270\u001b[0m     \u001b[38;5;28;01mif\u001b[39;00m deep:\n\u001b[0;32m--> 271\u001b[0m         state \u001b[38;5;241m=\u001b[39m \u001b[43mdeepcopy\u001b[49m\u001b[43m(\u001b[49m\u001b[43mstate\u001b[49m\u001b[43m,\u001b[49m\u001b[43m \u001b[49m\u001b[43mmemo\u001b[49m\u001b[43m)\u001b[49m\n\u001b[1;32m    272\u001b[0m     \u001b[38;5;28;01mif\u001b[39;00m \u001b[38;5;28mhasattr\u001b[39m(y, \u001b[38;5;124m'\u001b[39m\u001b[38;5;124m__setstate__\u001b[39m\u001b[38;5;124m'\u001b[39m):\n\u001b[1;32m    273\u001b[0m         y\u001b[38;5;241m.\u001b[39m__setstate__(state)\n",
      "    \u001b[0;31m[... skipping similar frames: deepcopy at line 146 (1 times)]\u001b[0m\n",
      "File \u001b[0;32m/usr/lib/python3.10/copy.py:231\u001b[0m, in \u001b[0;36m_deepcopy_dict\u001b[0;34m(x, memo, deepcopy)\u001b[0m\n\u001b[1;32m    229\u001b[0m memo[\u001b[38;5;28mid\u001b[39m(x)] \u001b[38;5;241m=\u001b[39m y\n\u001b[1;32m    230\u001b[0m \u001b[38;5;28;01mfor\u001b[39;00m key, value \u001b[38;5;129;01min\u001b[39;00m x\u001b[38;5;241m.\u001b[39mitems():\n\u001b[0;32m--> 231\u001b[0m     y[deepcopy(key, memo)] \u001b[38;5;241m=\u001b[39m \u001b[43mdeepcopy\u001b[49m\u001b[43m(\u001b[49m\u001b[43mvalue\u001b[49m\u001b[43m,\u001b[49m\u001b[43m \u001b[49m\u001b[43mmemo\u001b[49m\u001b[43m)\u001b[49m\n\u001b[1;32m    232\u001b[0m \u001b[38;5;28;01mreturn\u001b[39;00m y\n",
      "    \u001b[0;31m[... skipping similar frames: deepcopy at line 146 (1 times)]\u001b[0m\n",
      "File \u001b[0;32m/usr/lib/python3.10/copy.py:206\u001b[0m, in \u001b[0;36m_deepcopy_list\u001b[0;34m(x, memo, deepcopy)\u001b[0m\n\u001b[1;32m    204\u001b[0m append \u001b[38;5;241m=\u001b[39m y\u001b[38;5;241m.\u001b[39mappend\n\u001b[1;32m    205\u001b[0m \u001b[38;5;28;01mfor\u001b[39;00m a \u001b[38;5;129;01min\u001b[39;00m x:\n\u001b[0;32m--> 206\u001b[0m     append(\u001b[43mdeepcopy\u001b[49m\u001b[43m(\u001b[49m\u001b[43ma\u001b[49m\u001b[43m,\u001b[49m\u001b[43m \u001b[49m\u001b[43mmemo\u001b[49m\u001b[43m)\u001b[49m)\n\u001b[1;32m    207\u001b[0m \u001b[38;5;28;01mreturn\u001b[39;00m y\n",
      "    \u001b[0;31m[... skipping similar frames: deepcopy at line 146 (8 times), deepcopy at line 172 (5 times), _deepcopy_dict at line 231 (4 times), _deepcopy_list at line 206 (4 times), _reconstruct at line 271 (4 times)]\u001b[0m\n",
      "File \u001b[0;32m/usr/lib/python3.10/copy.py:271\u001b[0m, in \u001b[0;36m_reconstruct\u001b[0;34m(x, memo, func, args, state, listiter, dictiter, deepcopy)\u001b[0m\n\u001b[1;32m    269\u001b[0m \u001b[38;5;28;01mif\u001b[39;00m state \u001b[38;5;129;01mis\u001b[39;00m \u001b[38;5;129;01mnot\u001b[39;00m \u001b[38;5;28;01mNone\u001b[39;00m:\n\u001b[1;32m    270\u001b[0m     \u001b[38;5;28;01mif\u001b[39;00m deep:\n\u001b[0;32m--> 271\u001b[0m         state \u001b[38;5;241m=\u001b[39m \u001b[43mdeepcopy\u001b[49m\u001b[43m(\u001b[49m\u001b[43mstate\u001b[49m\u001b[43m,\u001b[49m\u001b[43m \u001b[49m\u001b[43mmemo\u001b[49m\u001b[43m)\u001b[49m\n\u001b[1;32m    272\u001b[0m     \u001b[38;5;28;01mif\u001b[39;00m \u001b[38;5;28mhasattr\u001b[39m(y, \u001b[38;5;124m'\u001b[39m\u001b[38;5;124m__setstate__\u001b[39m\u001b[38;5;124m'\u001b[39m):\n\u001b[1;32m    273\u001b[0m         y\u001b[38;5;241m.\u001b[39m__setstate__(state)\n",
      "    \u001b[0;31m[... skipping similar frames: deepcopy at line 146 (1 times)]\u001b[0m\n",
      "File \u001b[0;32m/usr/lib/python3.10/copy.py:231\u001b[0m, in \u001b[0;36m_deepcopy_dict\u001b[0;34m(x, memo, deepcopy)\u001b[0m\n\u001b[1;32m    229\u001b[0m memo[\u001b[38;5;28mid\u001b[39m(x)] \u001b[38;5;241m=\u001b[39m y\n\u001b[1;32m    230\u001b[0m \u001b[38;5;28;01mfor\u001b[39;00m key, value \u001b[38;5;129;01min\u001b[39;00m x\u001b[38;5;241m.\u001b[39mitems():\n\u001b[0;32m--> 231\u001b[0m     y[deepcopy(key, memo)] \u001b[38;5;241m=\u001b[39m \u001b[43mdeepcopy\u001b[49m\u001b[43m(\u001b[49m\u001b[43mvalue\u001b[49m\u001b[43m,\u001b[49m\u001b[43m \u001b[49m\u001b[43mmemo\u001b[49m\u001b[43m)\u001b[49m\n\u001b[1;32m    232\u001b[0m \u001b[38;5;28;01mreturn\u001b[39;00m y\n",
      "File \u001b[0;32m/usr/lib/python3.10/copy.py:146\u001b[0m, in \u001b[0;36mdeepcopy\u001b[0;34m(x, memo, _nil)\u001b[0m\n\u001b[1;32m    144\u001b[0m copier \u001b[38;5;241m=\u001b[39m _deepcopy_dispatch\u001b[38;5;241m.\u001b[39mget(\u001b[38;5;28mcls\u001b[39m)\n\u001b[1;32m    145\u001b[0m \u001b[38;5;28;01mif\u001b[39;00m copier \u001b[38;5;129;01mis\u001b[39;00m \u001b[38;5;129;01mnot\u001b[39;00m \u001b[38;5;28;01mNone\u001b[39;00m:\n\u001b[0;32m--> 146\u001b[0m     y \u001b[38;5;241m=\u001b[39m \u001b[43mcopier\u001b[49m\u001b[43m(\u001b[49m\u001b[43mx\u001b[49m\u001b[43m,\u001b[49m\u001b[43m \u001b[49m\u001b[43mmemo\u001b[49m\u001b[43m)\u001b[49m\n\u001b[1;32m    147\u001b[0m \u001b[38;5;28;01melse\u001b[39;00m:\n\u001b[1;32m    148\u001b[0m     \u001b[38;5;28;01mif\u001b[39;00m \u001b[38;5;28missubclass\u001b[39m(\u001b[38;5;28mcls\u001b[39m, \u001b[38;5;28mtype\u001b[39m):\n",
      "File \u001b[0;32m/usr/lib/python3.10/copy.py:206\u001b[0m, in \u001b[0;36m_deepcopy_list\u001b[0;34m(x, memo, deepcopy)\u001b[0m\n\u001b[1;32m    204\u001b[0m append \u001b[38;5;241m=\u001b[39m y\u001b[38;5;241m.\u001b[39mappend\n\u001b[1;32m    205\u001b[0m \u001b[38;5;28;01mfor\u001b[39;00m a \u001b[38;5;129;01min\u001b[39;00m x:\n\u001b[0;32m--> 206\u001b[0m     append(\u001b[43mdeepcopy\u001b[49m\u001b[43m(\u001b[49m\u001b[43ma\u001b[49m\u001b[43m,\u001b[49m\u001b[43m \u001b[49m\u001b[43mmemo\u001b[49m\u001b[43m)\u001b[49m)\n\u001b[1;32m    207\u001b[0m \u001b[38;5;28;01mreturn\u001b[39;00m y\n",
      "File \u001b[0;32m/usr/lib/python3.10/copy.py:172\u001b[0m, in \u001b[0;36mdeepcopy\u001b[0;34m(x, memo, _nil)\u001b[0m\n\u001b[1;32m    170\u001b[0m                 y \u001b[38;5;241m=\u001b[39m x\n\u001b[1;32m    171\u001b[0m             \u001b[38;5;28;01melse\u001b[39;00m:\n\u001b[0;32m--> 172\u001b[0m                 y \u001b[38;5;241m=\u001b[39m \u001b[43m_reconstruct\u001b[49m\u001b[43m(\u001b[49m\u001b[43mx\u001b[49m\u001b[43m,\u001b[49m\u001b[43m \u001b[49m\u001b[43mmemo\u001b[49m\u001b[43m,\u001b[49m\u001b[43m \u001b[49m\u001b[38;5;241;43m*\u001b[39;49m\u001b[43mrv\u001b[49m\u001b[43m)\u001b[49m\n\u001b[1;32m    174\u001b[0m \u001b[38;5;66;03m# If is its own copy, don't memoize.\u001b[39;00m\n\u001b[1;32m    175\u001b[0m \u001b[38;5;28;01mif\u001b[39;00m y \u001b[38;5;129;01mis\u001b[39;00m \u001b[38;5;129;01mnot\u001b[39;00m x:\n",
      "File \u001b[0;32m/usr/lib/python3.10/copy.py:275\u001b[0m, in \u001b[0;36m_reconstruct\u001b[0;34m(x, memo, func, args, state, listiter, dictiter, deepcopy)\u001b[0m\n\u001b[1;32m    273\u001b[0m     y\u001b[38;5;241m.\u001b[39m__setstate__(state)\n\u001b[1;32m    274\u001b[0m \u001b[38;5;28;01melse\u001b[39;00m:\n\u001b[0;32m--> 275\u001b[0m     \u001b[38;5;28;01mif\u001b[39;00m \u001b[38;5;28;43misinstance\u001b[39;49m\u001b[43m(\u001b[49m\u001b[43mstate\u001b[49m\u001b[43m,\u001b[49m\u001b[43m \u001b[49m\u001b[38;5;28;43mtuple\u001b[39;49m\u001b[43m)\u001b[49m \u001b[38;5;129;01mand\u001b[39;00m \u001b[38;5;28mlen\u001b[39m(state) \u001b[38;5;241m==\u001b[39m \u001b[38;5;241m2\u001b[39m:\n\u001b[1;32m    276\u001b[0m         state, slotstate \u001b[38;5;241m=\u001b[39m state\n\u001b[1;32m    277\u001b[0m     \u001b[38;5;28;01melse\u001b[39;00m:\n",
      "\u001b[0;31mKeyboardInterrupt\u001b[0m: "
     ]
    }
   ],
   "source": [
    "best, trees = run_deap_gp(acc_loss_fn_min,\n",
    "                          2,\n",
    "                          36,\n",
    "                          16,\n",
    "                          X_all,\n",
    "                          Y_all,\n",
    "                          generations=10000,\n",
    "                          raise_error=True,\n",
    "                          log_perf_every=100,\n",
    "                          log_models_every=-1,\n",
    "                          mutate_params=False\n",
    "                          \n",
    "                          )\n",
    "print(\"Best expression:\", best)\n"
   ]
  }
 ],
 "metadata": {
  "kernelspec": {
   "display_name": "Python 3",
   "language": "python",
   "name": "python3"
  },
  "language_info": {
   "codemirror_mode": {
    "name": "ipython",
    "version": 3
   },
   "file_extension": ".py",
   "mimetype": "text/x-python",
   "name": "python",
   "nbconvert_exporter": "python",
   "pygments_lexer": "ipython3",
   "version": "3.10.12"
  }
 },
 "nbformat": 4,
 "nbformat_minor": 2
}
